{
 "cells": [
  {
   "cell_type": "markdown",
   "metadata": {
    "id": "hcMKYr6wLjZH"
   },
   "source": [
    "# (N) Import libraries"
   ]
  },
  {
   "cell_type": "code",
   "execution_count": null,
   "metadata": {
    "colab": {
     "base_uri": "https://localhost:8080/"
    },
    "id": "H7UrrKPMLyHv",
    "outputId": "1e6bb24a-4bba-4b6a-8428-93503b1c9866"
   },
   "outputs": [],
   "source": [
    "# connect Colab with Google Drive\n",
    "from google.colab import drive\n",
    "drive.mount('/content/drive')"
   ]
  },
  {
   "cell_type": "code",
   "execution_count": null,
   "metadata": {
    "id": "N30_khPFL3ee"
   },
   "outputs": [],
   "source": [
    "# to import custom modules\n",
    "import sys\n",
    "sys.path.append(\"/content/drive/MyDrive/UNIMI/MachineLearning/UrbanSound/scripts\")"
   ]
  },
  {
   "cell_type": "code",
   "execution_count": null,
   "metadata": {
    "id": "kUQtLNiRJ8xt"
   },
   "outputs": [],
   "source": [
    "import tensorflow as tf\n",
    "from tensorflow import keras\n",
    "import numpy as np\n",
    "from keras.models import Sequential\n",
    "from keras.layers.core import Dense, Dropout, Activation, Flatten\n",
    "from keras.layers.convolutional import Conv2D, MaxPooling2D, ZeroPadding2D\n",
    "from keras.layers import BatchNormalization\n",
    "from keras.regularizers import l2"
   ]
  },
  {
   "cell_type": "code",
   "execution_count": null,
   "metadata": {
    "id": "M8QoLYdSPkb8"
   },
   "outputs": [],
   "source": [
    "import AddUtil\n",
    "import DataLoader"
   ]
  },
  {
   "cell_type": "code",
   "execution_count": null,
   "metadata": {
    "id": "xFCZytyMPnA8"
   },
   "outputs": [],
   "source": [
    "AddUtil.reset_random_seeds()"
   ]
  },
  {
   "cell_type": "markdown",
   "metadata": {
    "id": "ILMBicavLTvr"
   },
   "source": [
    "# (I) AlexNet"
   ]
  },
  {
   "cell_type": "code",
   "execution_count": null,
   "metadata": {
    "id": "sCUi8dmlLWfi"
   },
   "outputs": [],
   "source": [
    "def alexnet_model(\n",
    "    X_train, \n",
    "    y_train,\n",
    "    X_val, \n",
    "    y_val,\n",
    "    X_test, \n",
    "    y_test,\n",
    "    img_shape=(128, 128, 1), \n",
    "    n_classes=10, \n",
    "    l2_reg=0.,\n",
    "\tweights=None, \n",
    "    ep=64, \n",
    "    bs=64, \n",
    "    name=\"alexnet\", \n",
    "    l_rate=0.001\n",
    "    ):\n",
    "\n",
    "    \"\"\"\n",
    "    The baseline model is taken from: https://github.com/eweill/keras-deepcv/blob/master/models/classification/alexnet.py\n",
    "    \"\"\"\n",
    "\n",
    "    # Ensure reproducibility\n",
    "    AddUtil.reset_random_seeds()\n",
    "\n",
    "\t# Initialize model\n",
    "    alexnet = Sequential()\n",
    "\n",
    "\t# Layer 1\n",
    "    alexnet.add(Conv2D(96, (11, 11), input_shape=img_shape,\n",
    "\t\tpadding='same', kernel_regularizer=l2(l2_reg)))\n",
    "    alexnet.add(BatchNormalization())\n",
    "    alexnet.add(Activation('relu'))\n",
    "    alexnet.add(MaxPooling2D(pool_size=(2, 2)))\n",
    "\n",
    "\t# Layer 2\n",
    "    alexnet.add(Conv2D(256, (5, 5), padding='same'))\n",
    "    alexnet.add(BatchNormalization())\n",
    "    alexnet.add(Activation('relu'))\n",
    "    alexnet.add(MaxPooling2D(pool_size=(2, 2)))\n",
    "\n",
    "\t# Layer 3\n",
    "    alexnet.add(ZeroPadding2D((1, 1)))\n",
    "    alexnet.add(Conv2D(512, (3, 3), padding='same'))\n",
    "    alexnet.add(BatchNormalization())\n",
    "    alexnet.add(Activation('relu'))\n",
    "    alexnet.add(MaxPooling2D(pool_size=(2, 2)))\n",
    "\n",
    "\t# Layer 4\n",
    "    alexnet.add(ZeroPadding2D((1, 1)))\n",
    "    alexnet.add(Conv2D(1024, (3, 3), padding='same'))\n",
    "    alexnet.add(BatchNormalization())\n",
    "    alexnet.add(Activation('relu'))\n",
    "\n",
    "\t# Layer 5\n",
    "    alexnet.add(ZeroPadding2D((1, 1)))\n",
    "    alexnet.add(Conv2D(1024, (3, 3), padding='same'))\n",
    "    alexnet.add(BatchNormalization())\n",
    "    alexnet.add(Activation('relu'))\n",
    "    alexnet.add(MaxPooling2D(pool_size=(2, 2)))\n",
    "\n",
    "\t# Layer 6\n",
    "    alexnet.add(Flatten())\n",
    "    alexnet.add(Dense(3072))\n",
    "    alexnet.add(BatchNormalization())\n",
    "    alexnet.add(Activation('relu'))\n",
    "    alexnet.add(Dropout(0.5))\n",
    "\n",
    "\t# Layer 7\n",
    "    alexnet.add(Dense(4096))\n",
    "    alexnet.add(BatchNormalization())\n",
    "    alexnet.add(Activation('relu'))\n",
    "    alexnet.add(Dropout(0.5))\n",
    "\n",
    "\t# Layer 8\n",
    "    alexnet.add(Dense(n_classes))\n",
    "    alexnet.add(BatchNormalization())\n",
    "    alexnet.add(Activation('softmax'))\n",
    "    \n",
    "    if weights is not None:\n",
    "        alexnet.load_weights(weights)\n",
    "  \n",
    "    # Compile the model\n",
    "    opt = keras.optimizers.Adam(learning_rate=l_rate)\n",
    "    alexnet.compile(loss='categorical_crossentropy', optimizer=opt, metrics=['accuracy'])\n",
    "\n",
    "    # Train the model\n",
    "    history_model = alexnet.fit(\n",
    "        x=X_train, \n",
    "        y=y_train, \n",
    "        epochs=ep,\n",
    "        batch_size=bs, \n",
    "        validation_data=(X_val, y_val),\n",
    "        verbose=1)\n",
    "    \n",
    "    # Save accuracy and loss on the trainining and validation samples to the file\n",
    "    history_dict_model = history_model.history\n",
    "    AddUtil.save_metrics(history_dict_model,f\"history_dict_{name}\")\n",
    "\n",
    "    # Save trained models (weights)\n",
    "    alexnet.save(f\"/content/drive/MyDrive/UNIMI/MachineLearning/UrbanSound/pretrained_models/{name}\")\n",
    "\n",
    "    # Print training and validation loss and accuracy on the last epoch\n",
    "    AddUtil.print_metrics(history_dict_model)\n",
    "\n",
    "    # Evaluate the model on the test data:\n",
    "    print(AddUtil.fold_evaluate(alexnet, X_test, y_test))"
   ]
  },
  {
   "cell_type": "markdown",
   "metadata": {
    "id": "3OQgYZ97PWSq"
   },
   "source": [
    "# (II) Data Manipulation"
   ]
  },
  {
   "cell_type": "code",
   "execution_count": null,
   "metadata": {
    "colab": {
     "base_uri": "https://localhost:8080/"
    },
    "id": "0dwAdFjCOrfP",
    "outputId": "7703d2da-bea5-4e9f-a120-9f9484f9dffb"
   },
   "outputs": [],
   "source": [
    "# Load features from the file\n",
    "path = \"/content/drive/MyDrive/UNIMI/MachineLearning/UrbanSound/features/spec_feat_with_stand_128_128_11025_1024_1024.npy\"\n",
    "df = DataLoader.create_df(path)\n",
    "df.info()"
   ]
  },
  {
   "cell_type": "code",
   "execution_count": null,
   "metadata": {
    "colab": {
     "base_uri": "https://localhost:8080/"
    },
    "id": "jR5QoXlbPhLm",
    "outputId": "47c49cbd-6caf-4359-89fc-baf68c1d0d70"
   },
   "outputs": [],
   "source": [
    "# Create training, validation and test subsets\n",
    "X_train, y_train, X_val, y_val, X_test, y_test = DataLoader.train_val_test_split(df)"
   ]
  },
  {
   "cell_type": "code",
   "execution_count": null,
   "metadata": {
    "colab": {
     "base_uri": "https://localhost:8080/"
    },
    "id": "WhlIQqhBP46P",
    "outputId": "8670c492-6d9a-4a69-e5c1-7d4ad8ce825d"
   },
   "outputs": [],
   "source": [
    "# cast size of training and validation sample to shape: (128, 128, 1)\n",
    "X_train_ext = X_train[..., np.newaxis]\n",
    "X_val_ext = X_val[..., np.newaxis]\n",
    "print(X_train_ext.shape, X_val_ext.shape)"
   ]
  },
  {
   "cell_type": "code",
   "execution_count": null,
   "metadata": {
    "colab": {
     "base_uri": "https://localhost:8080/"
    },
    "id": "i_mgJWBtP6aR",
    "outputId": "9b24e23d-bb40-4fa4-aa39-25da7b0ec42d"
   },
   "outputs": [],
   "source": [
    "# cast size of test sample to shape: (128, 128, 1)\n",
    "X_test_ext = []\n",
    "for item in X_test:\n",
    "    X_test_ext.append(item[..., np.newaxis])\n",
    "\n",
    "for item in X_test_ext:\n",
    "    print(item.shape)"
   ]
  },
  {
   "cell_type": "markdown",
   "metadata": {
    "id": "lxm9o1w6QDSB"
   },
   "source": [
    "# (III) Train the baseline model"
   ]
  },
  {
   "cell_type": "code",
   "execution_count": null,
   "metadata": {
    "id": "NU9SsGgkQBQs"
   },
   "outputs": [],
   "source": [
    "EPOCHS = 64\n",
    "BATCH_SIZE = 64\n",
    "LEARNING_RATE = 0.001\n",
    "NAME = \"alextnet_baseline\""
   ]
  },
  {
   "cell_type": "code",
   "execution_count": null,
   "metadata": {
    "colab": {
     "base_uri": "https://localhost:8080/"
    },
    "id": "CiQHgaUWQTSz",
    "outputId": "038096f8-6c11-4005-dcc3-03e8cf5fddb1"
   },
   "outputs": [],
   "source": [
    "alexnet_model(X_train_ext, \n",
    "              y_train, \n",
    "              X_val_ext, \n",
    "              y_val, \n",
    "              X_test_ext, \n",
    "              y_test,\n",
    "              ep=EPOCHS,\n",
    "              bs=BATCH_SIZE,\n",
    "              name=NAME,\n",
    "              l_rate=LEARNING_RATE)"
   ]
  },
  {
   "cell_type": "markdown",
   "metadata": {
    "id": "I4SWh4-Wqu0N"
   },
   "source": [
    "# (IV) Influence of learning rate"
   ]
  },
  {
   "cell_type": "markdown",
   "metadata": {
    "id": "EKXc1DlbqxnO"
   },
   "source": [
    "l_rate = [0.00001, 0.0001, 0.01]"
   ]
  },
  {
   "cell_type": "markdown",
   "metadata": {
    "id": "J8SuY8coqyO-"
   },
   "source": [
    "## (4.1) l_rate = 0.0001"
   ]
  },
  {
   "cell_type": "code",
   "execution_count": null,
   "metadata": {
    "colab": {
     "base_uri": "https://localhost:8080/"
    },
    "id": "2tZtMdgMq_07",
    "outputId": "0e2c3bc1-5d33-4ddc-eb3a-c73e8718d099"
   },
   "outputs": [],
   "source": [
    "%reset "
   ]
  },
  {
   "cell_type": "code",
   "execution_count": null,
   "metadata": {
    "id": "qTRha97LQlIy"
   },
   "outputs": [],
   "source": [
    "EPOCHS = 64\n",
    "BATCH_SIZE = 64\n",
    "LEARNING_RATE = 0.0001\n",
    "NAME = \"alextnet_lr_0001\""
   ]
  },
  {
   "cell_type": "code",
   "execution_count": null,
   "metadata": {
    "colab": {
     "base_uri": "https://localhost:8080/"
    },
    "id": "Pafd3KdjsPQv",
    "outputId": "11f0be01-67fa-43f0-d865-85935b4b8c88"
   },
   "outputs": [],
   "source": [
    "alexnet_model(X_train_ext, \n",
    "              y_train, \n",
    "              X_val_ext, \n",
    "              y_val, \n",
    "              X_test_ext, \n",
    "              y_test,\n",
    "              ep=EPOCHS,\n",
    "              bs=BATCH_SIZE,\n",
    "              name=NAME,\n",
    "              l_rate=LEARNING_RATE)"
   ]
  },
  {
   "cell_type": "markdown",
   "metadata": {
    "id": "EMfKDaqRKBzb"
   },
   "source": [
    "## (4.2) l_rate = 0.01"
   ]
  },
  {
   "cell_type": "code",
   "execution_count": null,
   "metadata": {
    "id": "E7WMlS8qsP2S"
   },
   "outputs": [],
   "source": [
    "EPOCHS = 64\n",
    "BATCH_SIZE = 64\n",
    "LEARNING_RATE = 0.01\n",
    "NAME = \"alextnet_lr_01\""
   ]
  },
  {
   "cell_type": "code",
   "execution_count": null,
   "metadata": {
    "colab": {
     "base_uri": "https://localhost:8080/"
    },
    "id": "fhhZtM2-JvRA",
    "outputId": "eceaae88-714f-4afb-8b0d-fd7ef2f44d6b"
   },
   "outputs": [],
   "source": [
    "print(EPOCHS, BATCH_SIZE, LEARNING_RATE, NAME)"
   ]
  },
  {
   "cell_type": "code",
   "execution_count": null,
   "metadata": {
    "colab": {
     "base_uri": "https://localhost:8080/"
    },
    "id": "xH20pdLVKyqT",
    "outputId": "bc3d134a-7cbf-4df9-aeb7-07a491c56c64"
   },
   "outputs": [],
   "source": [
    "alexnet_model(X_train_ext, \n",
    "              y_train, \n",
    "              X_val_ext, \n",
    "              y_val, \n",
    "              X_test_ext, \n",
    "              y_test,\n",
    "              ep=EPOCHS,\n",
    "              bs=BATCH_SIZE,\n",
    "              name=NAME,\n",
    "              l_rate=LEARNING_RATE)"
   ]
  },
  {
   "cell_type": "markdown",
   "metadata": {
    "id": "dOP-j4tjnDM0"
   },
   "source": [
    "## (4.2) l_rate = 0.00001"
   ]
  },
  {
   "cell_type": "code",
   "execution_count": null,
   "metadata": {
    "id": "a_84_IeKLAqx"
   },
   "outputs": [],
   "source": [
    "EPOCHS = 64\n",
    "BATCH_SIZE = 64\n",
    "LEARNING_RATE = 0.00001\n",
    "NAME = \"alextnet_lr_00001\""
   ]
  },
  {
   "cell_type": "code",
   "execution_count": null,
   "metadata": {
    "colab": {
     "base_uri": "https://localhost:8080/"
    },
    "id": "zgEp_qsFoeKl",
    "outputId": "3c001608-ee04-4635-fc26-c53f2b975071"
   },
   "outputs": [],
   "source": [
    "print(EPOCHS, BATCH_SIZE, LEARNING_RATE, NAME)"
   ]
  },
  {
   "cell_type": "code",
   "execution_count": null,
   "metadata": {
    "colab": {
     "base_uri": "https://localhost:8080/"
    },
    "id": "nUGiQ3NIog15",
    "outputId": "4008e314-5487-4a88-9862-7ed69442186b"
   },
   "outputs": [],
   "source": [
    "alexnet_model(X_train_ext, \n",
    "              y_train, \n",
    "              X_val_ext, \n",
    "              y_val, \n",
    "              X_test_ext, \n",
    "              y_test,\n",
    "              ep=EPOCHS,\n",
    "              bs=BATCH_SIZE,\n",
    "              name=NAME,\n",
    "              l_rate=LEARNING_RATE)"
   ]
  },
  {
   "cell_type": "markdown",
   "metadata": {
    "id": "ZsNL6yVI7pNS"
   },
   "source": [
    "# (V) Influence of the batch size"
   ]
  },
  {
   "cell_type": "markdown",
   "metadata": {
    "id": "O3egTUfb7vVd"
   },
   "source": [
    "bs = [16, 32, 128]"
   ]
  },
  {
   "cell_type": "markdown",
   "metadata": {
    "id": "6kepzbsN72Ib"
   },
   "source": [
    "## (5.1) Batch size = 32"
   ]
  },
  {
   "cell_type": "code",
   "execution_count": null,
   "metadata": {
    "id": "1e1sSmQ-ol50"
   },
   "outputs": [],
   "source": [
    "EPOCHS = 64\n",
    "BATCH_SIZE = 32\n",
    "LEARNING_RATE = 0.001\n",
    "NAME = \"alextnet_bs_32\""
   ]
  },
  {
   "cell_type": "code",
   "execution_count": null,
   "metadata": {
    "colab": {
     "base_uri": "https://localhost:8080/"
    },
    "id": "zRuFSjGk8HmC",
    "outputId": "741096eb-d866-4a6f-ebf2-e95ad00d6ba5"
   },
   "outputs": [],
   "source": [
    "print(EPOCHS, BATCH_SIZE, LEARNING_RATE, NAME)"
   ]
  },
  {
   "cell_type": "code",
   "execution_count": null,
   "metadata": {
    "colab": {
     "base_uri": "https://localhost:8080/"
    },
    "id": "XN-_m4Fm8H8P",
    "outputId": "63f0f4d3-1d3a-4231-9c41-de6e880f384a"
   },
   "outputs": [],
   "source": [
    "alexnet_model(X_train_ext, \n",
    "              y_train, \n",
    "              X_val_ext, \n",
    "              y_val, \n",
    "              X_test_ext, \n",
    "              y_test,\n",
    "              ep=EPOCHS,\n",
    "              bs=BATCH_SIZE,\n",
    "              name=NAME,\n",
    "              l_rate=LEARNING_RATE)"
   ]
  },
  {
   "cell_type": "markdown",
   "metadata": {
    "id": "EPxj9tZ_PAGn"
   },
   "source": [
    "## (5.2) Batch size = 128"
   ]
  },
  {
   "cell_type": "code",
   "execution_count": null,
   "metadata": {
    "id": "p1dlNY4XPCD6"
   },
   "outputs": [],
   "source": [
    "EPOCHS = 64\n",
    "BATCH_SIZE = 128\n",
    "LEARNING_RATE = 0.001\n",
    "NAME = \"alextnet_bs_128\""
   ]
  },
  {
   "cell_type": "code",
   "execution_count": null,
   "metadata": {
    "colab": {
     "base_uri": "https://localhost:8080/"
    },
    "id": "PsquN6CWPIaQ",
    "outputId": "140776a0-786c-4055-daa8-ed413dbb2f68"
   },
   "outputs": [],
   "source": [
    "print(EPOCHS, BATCH_SIZE, LEARNING_RATE, NAME)"
   ]
  },
  {
   "cell_type": "code",
   "execution_count": null,
   "metadata": {
    "colab": {
     "base_uri": "https://localhost:8080/"
    },
    "id": "ddqD9WjBPNLt",
    "outputId": "e3f7a052-6c34-457e-c518-baad358bae5b"
   },
   "outputs": [],
   "source": [
    "alexnet_model(X_train_ext, \n",
    "              y_train, \n",
    "              X_val_ext, \n",
    "              y_val, \n",
    "              X_test_ext, \n",
    "              y_test,\n",
    "              ep=EPOCHS,\n",
    "              bs=BATCH_SIZE,\n",
    "              name=NAME,\n",
    "              l_rate=LEARNING_RATE)"
   ]
  },
  {
   "cell_type": "markdown",
   "metadata": {
    "id": "0AwHUBFJmrWM"
   },
   "source": [
    "## (5.3) Batch size = 16"
   ]
  },
  {
   "cell_type": "code",
   "execution_count": null,
   "metadata": {
    "id": "9tn8EueUmvum"
   },
   "outputs": [],
   "source": [
    "EPOCHS = 64\n",
    "BATCH_SIZE = 16\n",
    "LEARNING_RATE = 0.001\n",
    "NAME = \"alextnet_bs_16\""
   ]
  },
  {
   "cell_type": "code",
   "execution_count": null,
   "metadata": {
    "colab": {
     "base_uri": "https://localhost:8080/"
    },
    "id": "JfYcqZ83mzfw",
    "outputId": "a6469e7d-04c3-49d0-c799-763155a05b87"
   },
   "outputs": [],
   "source": [
    "print(EPOCHS, BATCH_SIZE, LEARNING_RATE, NAME)"
   ]
  },
  {
   "cell_type": "code",
   "execution_count": null,
   "metadata": {
    "colab": {
     "base_uri": "https://localhost:8080/"
    },
    "id": "66SFR2cImz7S",
    "outputId": "99962d17-fcfb-4b9f-c503-e7ee872892d9"
   },
   "outputs": [],
   "source": [
    "alexnet_model(X_train_ext, \n",
    "              y_train, \n",
    "              X_val_ext, \n",
    "              y_val, \n",
    "              X_test_ext, \n",
    "              y_test,\n",
    "              ep=EPOCHS,\n",
    "              bs=BATCH_SIZE,\n",
    "              name=NAME,\n",
    "              l_rate=LEARNING_RATE)"
   ]
  },
  {
   "cell_type": "markdown",
   "metadata": {
    "id": "0V6Ec5H6koRS"
   },
   "source": [
    "# (V) AlexNet model with Stochastic Gradient Descent"
   ]
  },
  {
   "cell_type": "markdown",
   "metadata": {
    "id": "0gP31DSMkv5z"
   },
   "source": [
    "## (5.1) Model"
   ]
  },
  {
   "cell_type": "code",
   "execution_count": null,
   "metadata": {
    "id": "KG-2yS77kr1w"
   },
   "outputs": [],
   "source": [
    "def alexnet_model_sgd(\n",
    "    X_train, \n",
    "    y_train,\n",
    "    X_val, \n",
    "    y_val,\n",
    "    X_test, \n",
    "    y_test,\n",
    "    img_shape=(128, 128, 1), \n",
    "    n_classes=10, \n",
    "    l2_reg=0.,\n",
    "\tweights=None, \n",
    "    ep=64, \n",
    "    bs=64, \n",
    "    name=\"alexnet_sgd\", \n",
    "    ):\n",
    "\n",
    "    \"\"\"\n",
    "    The baseline model is taken from: https://github.com/eweill/keras-deepcv/blob/master/models/classification/alexnet.py\n",
    "    \"\"\"\n",
    "\n",
    "    # Ensure reproducibility\n",
    "    AddUtil.reset_random_seeds()\n",
    "\n",
    "\t# Initialize model\n",
    "    alexnet = Sequential()\n",
    "\n",
    "\t# Layer 1\n",
    "    alexnet.add(Conv2D(96, (11, 11), input_shape=img_shape,\n",
    "\t\tpadding='same', kernel_regularizer=l2(l2_reg)))\n",
    "    alexnet.add(BatchNormalization())\n",
    "    alexnet.add(Activation('relu'))\n",
    "    alexnet.add(MaxPooling2D(pool_size=(2, 2)))\n",
    "\n",
    "\t# Layer 2\n",
    "    alexnet.add(Conv2D(256, (5, 5), padding='same'))\n",
    "    alexnet.add(BatchNormalization())\n",
    "    alexnet.add(Activation('relu'))\n",
    "    alexnet.add(MaxPooling2D(pool_size=(2, 2)))\n",
    "\n",
    "\t# Layer 3\n",
    "    alexnet.add(ZeroPadding2D((1, 1)))\n",
    "    alexnet.add(Conv2D(512, (3, 3), padding='same'))\n",
    "    alexnet.add(BatchNormalization())\n",
    "    alexnet.add(Activation('relu'))\n",
    "    alexnet.add(MaxPooling2D(pool_size=(2, 2)))\n",
    "\n",
    "\t# Layer 4\n",
    "    alexnet.add(ZeroPadding2D((1, 1)))\n",
    "    alexnet.add(Conv2D(1024, (3, 3), padding='same'))\n",
    "    alexnet.add(BatchNormalization())\n",
    "    alexnet.add(Activation('relu'))\n",
    "\n",
    "\t# Layer 5\n",
    "    alexnet.add(ZeroPadding2D((1, 1)))\n",
    "    alexnet.add(Conv2D(1024, (3, 3), padding='same'))\n",
    "    alexnet.add(BatchNormalization())\n",
    "    alexnet.add(Activation('relu'))\n",
    "    alexnet.add(MaxPooling2D(pool_size=(2, 2)))\n",
    "\n",
    "\t# Layer 6\n",
    "    alexnet.add(Flatten())\n",
    "    alexnet.add(Dense(3072))\n",
    "    alexnet.add(BatchNormalization())\n",
    "    alexnet.add(Activation('relu'))\n",
    "    alexnet.add(Dropout(0.5))\n",
    "\n",
    "\t# Layer 7\n",
    "    alexnet.add(Dense(4096))\n",
    "    alexnet.add(BatchNormalization())\n",
    "    alexnet.add(Activation('relu'))\n",
    "    alexnet.add(Dropout(0.5))\n",
    "\n",
    "\t# Layer 8\n",
    "    alexnet.add(Dense(n_classes))\n",
    "    alexnet.add(BatchNormalization())\n",
    "    alexnet.add(Activation('softmax'))\n",
    "    \n",
    "    if weights is not None:\n",
    "        alexnet.load_weights(weights)\n",
    "  \n",
    "    # Compile the model\n",
    "    lr_schedule = keras.optimizers.schedules.ExponentialDecay(\n",
    "        initial_learning_rate=0.01,\n",
    "        decay_steps=10000,\n",
    "        decay_rate=0.95)\n",
    "    opt = keras.optimizers.SGD(learning_rate=lr_schedule)\n",
    "\n",
    "    alexnet.compile(loss='categorical_crossentropy', optimizer=opt, metrics=['accuracy'])\n",
    "\n",
    "    # Train the model\n",
    "    history_model = alexnet.fit(\n",
    "        x=X_train, \n",
    "        y=y_train, \n",
    "        epochs=ep,\n",
    "        batch_size=bs, \n",
    "        validation_data=(X_val, y_val),\n",
    "        verbose=1)\n",
    "    \n",
    "    # Save accuracy and loss on the trainining and validation samples to the file\n",
    "    history_dict_model = history_model.history\n",
    "    AddUtil.save_metrics(history_dict_model,f\"history_dict_{name}\")\n",
    "\n",
    "    # Save trained models (weights)\n",
    "    alexnet.save(f\"/content/drive/MyDrive/UNIMI/MachineLearning/UrbanSound/pretrained_models/{name}\")\n",
    "\n",
    "    # Print training and validation loss and accuracy on the last epoch\n",
    "    AddUtil.print_metrics(history_dict_model)\n",
    "\n",
    "    # Evaluate the model on the test data:\n",
    "    print(AddUtil.fold_evaluate(alexnet, X_test, y_test))"
   ]
  },
  {
   "cell_type": "markdown",
   "metadata": {
    "id": "kEoiwIuclD2v"
   },
   "source": [
    "## (5.2) Training"
   ]
  },
  {
   "cell_type": "code",
   "execution_count": null,
   "metadata": {
    "id": "OzndubhClGNw"
   },
   "outputs": [],
   "source": [
    "EPOCHS = 64\n",
    "BATCH_SIZE = 32\n",
    "NAME = \"alexnet_sgd\""
   ]
  },
  {
   "cell_type": "code",
   "execution_count": null,
   "metadata": {
    "colab": {
     "base_uri": "https://localhost:8080/"
    },
    "id": "IIxg1mjJo9JQ",
    "outputId": "8d7b6ba9-15f4-4fbb-f2a8-71fb55d732d4"
   },
   "outputs": [],
   "source": [
    "print(EPOCHS, BATCH_SIZE, NAME)"
   ]
  },
  {
   "cell_type": "code",
   "execution_count": null,
   "metadata": {
    "colab": {
     "base_uri": "https://localhost:8080/"
    },
    "id": "TGmJrCIZo1hN",
    "outputId": "f626fa60-c1c3-413c-80b5-546e7b021d03"
   },
   "outputs": [],
   "source": [
    "alexnet_model_sgd(X_train_ext, \n",
    "              y_train, \n",
    "              X_val_ext, \n",
    "              y_val, \n",
    "              X_test_ext, \n",
    "              y_test,\n",
    "              ep=EPOCHS,\n",
    "              bs=BATCH_SIZE,\n",
    "              name=NAME)"
   ]
  },
  {
   "cell_type": "code",
   "execution_count": null,
   "metadata": {
    "id": "wa5TkWWzpKdO"
   },
   "outputs": [],
   "source": []
  }
 ],
 "metadata": {
  "accelerator": "GPU",
  "colab": {
   "collapsed_sections": [
    "hcMKYr6wLjZH",
    "ILMBicavLTvr",
    "3OQgYZ97PWSq",
    "lxm9o1w6QDSB",
    "I4SWh4-Wqu0N",
    "J8SuY8coqyO-",
    "EMfKDaqRKBzb",
    "dOP-j4tjnDM0",
    "ZsNL6yVI7pNS",
    "6kepzbsN72Ib",
    "EPxj9tZ_PAGn",
    "0AwHUBFJmrWM"
   ],
   "name": "alexnet-model.ipynb",
   "provenance": []
  },
  "kernelspec": {
   "display_name": "Python 3",
   "language": "python",
   "name": "python3"
  },
  "language_info": {
   "codemirror_mode": {
    "name": "ipython",
    "version": 3
   },
   "file_extension": ".py",
   "mimetype": "text/x-python",
   "name": "python",
   "nbconvert_exporter": "python",
   "pygments_lexer": "ipython3",
   "version": "3.8.5"
  }
 },
 "nbformat": 4,
 "nbformat_minor": 1
}
