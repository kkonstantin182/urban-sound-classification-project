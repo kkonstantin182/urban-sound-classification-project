{
 "cells": [
  {
   "cell_type": "markdown",
   "metadata": {
    "id": "NCGu0H-csfIF"
   },
   "source": [
    "# (N) Importing modules"
   ]
  },
  {
   "cell_type": "code",
   "execution_count": null,
   "metadata": {
    "colab": {
     "base_uri": "https://localhost:8080/"
    },
    "id": "zAfR3YQVsOiZ",
    "outputId": "a833cf74-d32b-4ca4-da52-e128d27c15a3"
   },
   "outputs": [],
   "source": [
    "# connect Colab with Google Drive\n",
    "from google.colab import drive\n",
    "drive.mount('/content/drive')"
   ]
  },
  {
   "cell_type": "code",
   "execution_count": null,
   "metadata": {
    "id": "A60L0kzKsmY2"
   },
   "outputs": [],
   "source": [
    "# to import custom modules\n",
    "import sys\n",
    "sys.path.append(\"/content/drive/MyDrive/UNIMI/MachineLearning/UrbanSound/scripts\")"
   ]
  },
  {
   "cell_type": "code",
   "execution_count": null,
   "metadata": {
    "id": "ricgt0W6s16m"
   },
   "outputs": [],
   "source": [
    "import AddUtil"
   ]
  },
  {
   "cell_type": "code",
   "execution_count": null,
   "metadata": {
    "id": "GUiJXdnls3aa"
   },
   "outputs": [],
   "source": [
    "import json\n",
    "import os"
   ]
  },
  {
   "cell_type": "markdown",
   "metadata": {
    "id": "q5DzlPd5s--T"
   },
   "source": [
    "# (I) Baseline"
   ]
  },
  {
   "cell_type": "markdown",
   "metadata": {
    "id": "f8sIbzrOtJRm"
   },
   "source": [
    "Info:  \n",
    "\n",
    "EPOCHS = 64,  \n",
    "BATCH_SIZE = 64,  \n",
    "LEARNING_RATE = 0.001,  \n",
    "NAME = \"alextnet_baseline\"  "
   ]
  },
  {
   "cell_type": "code",
   "execution_count": null,
   "metadata": {
    "id": "ldAWonTCs57k"
   },
   "outputs": [],
   "source": [
    "filepath = \"/content/drive/MyDrive/UNIMI/MachineLearning/UrbanSound/models/history_dict_alextnet_baseline.json\""
   ]
  },
  {
   "cell_type": "code",
   "execution_count": null,
   "metadata": {
    "id": "0rDSZUbHtFDK"
   },
   "outputs": [],
   "source": [
    "with open(filepath, \"r\") as f:\n",
    "    file = json.load(f)"
   ]
  },
  {
   "cell_type": "code",
   "execution_count": null,
   "metadata": {
    "colab": {
     "base_uri": "https://localhost:8080/",
     "height": 642
    },
    "id": "ezIwd2hOtFvj",
    "outputId": "29cf1082-ee42-4584-ff0a-fb08f4123f58"
   },
   "outputs": [],
   "source": [
    "AddUtil.acc_loss_plot(file)"
   ]
  },
  {
   "cell_type": "code",
   "execution_count": null,
   "metadata": {
    "colab": {
     "base_uri": "https://localhost:8080/",
     "height": 638
    },
    "id": "5-q5nHdFuJda",
    "outputId": "59a1532d-3303-4586-c2f5-c9d0a5dfaae7"
   },
   "outputs": [],
   "source": [
    "AddUtil.acc_loss_plot(file, kind='val')"
   ]
  },
  {
   "cell_type": "markdown",
   "metadata": {
    "id": "eXT6DHvxJE14"
   },
   "source": [
    "# (II) Learning rate"
   ]
  },
  {
   "cell_type": "markdown",
   "metadata": {
    "id": "HYjZtr9ZJRkp"
   },
   "source": [
    "## learning rate = 0.0001"
   ]
  },
  {
   "cell_type": "markdown",
   "metadata": {
    "id": "YQj5dHbTJch2"
   },
   "source": [
    "EPOCHS = 64  \n",
    "BATCH_SIZE = 64  \n",
    "LEARNING_RATE = 0.0001  \n",
    "NAME = alextnet_lr_0001  "
   ]
  },
  {
   "cell_type": "code",
   "execution_count": null,
   "metadata": {
    "id": "ITINYER_uSnr"
   },
   "outputs": [],
   "source": [
    "filepath = \"/content/drive/MyDrive/UNIMI/MachineLearning/UrbanSound/models/history_dict_alextnet_lr_0001.json\""
   ]
  },
  {
   "cell_type": "code",
   "execution_count": null,
   "metadata": {
    "id": "PNU6SP14Jlr9"
   },
   "outputs": [],
   "source": [
    "with open(filepath, \"r\") as f:\n",
    "    file = json.load(f)"
   ]
  },
  {
   "cell_type": "code",
   "execution_count": null,
   "metadata": {
    "colab": {
     "base_uri": "https://localhost:8080/"
    },
    "id": "Ipmf7-ZmJov0",
    "outputId": "d553f710-12c2-4d99-d35a-3bf2395b6b30"
   },
   "outputs": [],
   "source": [
    "AddUtil.acc_loss_plot(file)"
   ]
  },
  {
   "cell_type": "code",
   "execution_count": null,
   "metadata": {
    "colab": {
     "base_uri": "https://localhost:8080/"
    },
    "id": "58ROar0VJ0W3",
    "outputId": "4d067e63-347e-4dd3-b013-c81d9f7f20bf"
   },
   "outputs": [],
   "source": [
    "AddUtil.acc_loss_plot(file, kind=\"val\")"
   ]
  },
  {
   "cell_type": "markdown",
   "metadata": {
    "id": "aYqXbvUDpBXv"
   },
   "source": [
    "## learning rate = 0.01"
   ]
  },
  {
   "cell_type": "markdown",
   "metadata": {
    "id": "0dsb_hxEpFGG"
   },
   "source": [
    "EPOCHS = 64  \n",
    "BATCH_SIZE = 64  \n",
    "LEARNING_RATE = 0.01  \n",
    "NAME = alextnet_lr_01  "
   ]
  },
  {
   "cell_type": "code",
   "execution_count": null,
   "metadata": {
    "id": "VMzHswgVJ2jP"
   },
   "outputs": [],
   "source": [
    "filepath = \"/content/drive/MyDrive/UNIMI/MachineLearning/UrbanSound/models/history_dict_alextnet_lr_01.json\""
   ]
  },
  {
   "cell_type": "code",
   "execution_count": null,
   "metadata": {
    "id": "6gnJFzXFpO--"
   },
   "outputs": [],
   "source": [
    "with open(filepath, \"r\") as f:\n",
    "    file = json.load(f)"
   ]
  },
  {
   "cell_type": "code",
   "execution_count": null,
   "metadata": {
    "colab": {
     "base_uri": "https://localhost:8080/",
     "height": 638
    },
    "id": "SRWZB3C6pQtP",
    "outputId": "1b47af1c-806d-4068-80a6-66aa09af15cb"
   },
   "outputs": [],
   "source": [
    "AddUtil.acc_loss_plot(file)"
   ]
  },
  {
   "cell_type": "code",
   "execution_count": null,
   "metadata": {
    "colab": {
     "base_uri": "https://localhost:8080/",
     "height": 638
    },
    "id": "hpBjVHjapSiB",
    "outputId": "54b12680-eb77-4845-b7f7-82a4b38110ae"
   },
   "outputs": [],
   "source": [
    "AddUtil.acc_loss_plot(file, kind=\"val\")"
   ]
  },
  {
   "cell_type": "markdown",
   "metadata": {
    "id": "8izeTAE6p72f"
   },
   "source": [
    "## learning rate = 0.00001"
   ]
  },
  {
   "cell_type": "markdown",
   "metadata": {
    "id": "KGKHcy-2p-kl"
   },
   "source": [
    "EPOCHS = 64  \n",
    "BATCH_SIZE = 64  \n",
    "LEARNING_RATE = 0.00001  \n",
    "NAME = alextnet_lr_00001  "
   ]
  },
  {
   "cell_type": "code",
   "execution_count": null,
   "metadata": {
    "id": "phYdaSQLpV87"
   },
   "outputs": [],
   "source": [
    "filepath = \"/content/drive/MyDrive/UNIMI/MachineLearning/UrbanSound/models/history_dict_alextnet_lr_00001.json\""
   ]
  },
  {
   "cell_type": "code",
   "execution_count": null,
   "metadata": {
    "id": "K6EgoG1lqCjA"
   },
   "outputs": [],
   "source": [
    "with open(filepath, \"r\") as f:\n",
    "    file = json.load(f)"
   ]
  },
  {
   "cell_type": "code",
   "execution_count": null,
   "metadata": {
    "colab": {
     "base_uri": "https://localhost:8080/",
     "height": 638
    },
    "id": "N_JoGPKAqFeR",
    "outputId": "0e6c0794-1e77-4ceb-ab8f-2e1048ec3e3c"
   },
   "outputs": [],
   "source": [
    "AddUtil.acc_loss_plot(file)"
   ]
  },
  {
   "cell_type": "code",
   "execution_count": null,
   "metadata": {
    "colab": {
     "base_uri": "https://localhost:8080/",
     "height": 646
    },
    "id": "sH1-MMBbqIX_",
    "outputId": "403067d9-5a22-4fd0-d0bf-b77f680aa14a"
   },
   "outputs": [],
   "source": [
    "AddUtil.acc_loss_plot(file, kind=\"val\")"
   ]
  },
  {
   "cell_type": "markdown",
   "metadata": {
    "id": "Qz-1UA88qiHt"
   },
   "source": [
    "## Comparison"
   ]
  },
  {
   "cell_type": "code",
   "execution_count": null,
   "metadata": {
    "colab": {
     "base_uri": "https://localhost:8080/"
    },
    "id": "wLB0OoQ-5d5p",
    "outputId": "c8916a4b-2afc-4a6a-8f78-a69956e4cad8"
   },
   "outputs": [],
   "source": [
    "folderpath = \"/content/drive/MyDrive/UNIMI/MachineLearning/UrbanSound/models\"\n",
    "filepath = [os.path.join(folderpath, name) for name in os.listdir(folderpath) if (\"alextnet_lr\" in name) or (\"alextnet_baseline\" in name)]\n",
    "filepath"
   ]
  },
  {
   "cell_type": "code",
   "execution_count": null,
   "metadata": {
    "id": "CWNIR4nf6U7W"
   },
   "outputs": [],
   "source": [
    "histories = []\n",
    "for path in filepath:\n",
    "  with open(path, \"r\") as f:\n",
    "    file = json.load(f)\n",
    "  histories.append(file)"
   ]
  },
  {
   "cell_type": "code",
   "execution_count": null,
   "metadata": {
    "colab": {
     "base_uri": "https://localhost:8080/",
     "height": 624
    },
    "id": "wPCUOK_YqKj5",
    "outputId": "14f376f5-f4d6-443f-8e46-d0497f4c33c0"
   },
   "outputs": [],
   "source": [
    "AddUtil.loss_vs_param_plot(histories, par=[0.001, 0.0001, 0.01, 0.00001], par_name=\"learning rate\")"
   ]
  },
  {
   "cell_type": "markdown",
   "metadata": {
    "id": "YHjkA8s0kvYA"
   },
   "source": [
    "# (III) Batch Size"
   ]
  },
  {
   "cell_type": "markdown",
   "metadata": {
    "id": "F6lIqP5Zk5hr"
   },
   "source": [
    "## (3.1) batch size = 32"
   ]
  },
  {
   "cell_type": "markdown",
   "metadata": {
    "id": "yHg1yqMalE3E"
   },
   "source": [
    "EPOCHS = 64  \n",
    "BATCH_SIZE = 32  \n",
    "LEARNING_RATE = 0.001  \n",
    "NAME = \"alextnet_bs_32\"  "
   ]
  },
  {
   "cell_type": "code",
   "execution_count": null,
   "metadata": {
    "id": "BPF1-YQ4kz24"
   },
   "outputs": [],
   "source": [
    "filepath = \"/content/drive/MyDrive/UNIMI/MachineLearning/UrbanSound/models/history_dict_alextnet_bs_32.json\""
   ]
  },
  {
   "cell_type": "code",
   "execution_count": null,
   "metadata": {
    "id": "vKu0tXMjlNA4"
   },
   "outputs": [],
   "source": [
    "with open(filepath, \"r\") as f:\n",
    "    file = json.load(f)"
   ]
  },
  {
   "cell_type": "code",
   "execution_count": null,
   "metadata": {
    "colab": {
     "base_uri": "https://localhost:8080/",
     "height": 647
    },
    "id": "Ro8DesgGlRB_",
    "outputId": "a8da9798-d784-4b26-d719-4ea55b3d392e"
   },
   "outputs": [],
   "source": [
    "AddUtil.acc_loss_plot(file)"
   ]
  },
  {
   "cell_type": "code",
   "execution_count": null,
   "metadata": {
    "colab": {
     "base_uri": "https://localhost:8080/",
     "height": 638
    },
    "id": "QpY0Fd0QlRa5",
    "outputId": "be5d287d-c1e2-4734-899b-cdaef5afd061"
   },
   "outputs": [],
   "source": [
    "AddUtil.acc_loss_plot(file, kind=\"val\")"
   ]
  },
  {
   "cell_type": "markdown",
   "metadata": {
    "id": "V_8giYv6k-1J"
   },
   "source": [
    "## (3.2) batch size = 128"
   ]
  },
  {
   "cell_type": "markdown",
   "metadata": {
    "id": "ojJDHtA_lhHe"
   },
   "source": [
    "EPOCHS = 64  \n",
    "BATCH_SIZE = 128  \n",
    "LEARNING_RATE = 0.001  \n",
    "NAME = \"alextnet_bs_128\"  "
   ]
  },
  {
   "cell_type": "code",
   "execution_count": null,
   "metadata": {
    "id": "IQMJs8P6lBFe"
   },
   "outputs": [],
   "source": [
    "filepath = \"/content/drive/MyDrive/UNIMI/MachineLearning/UrbanSound/models/history_dict_alextnet_bs_128.json\""
   ]
  },
  {
   "cell_type": "code",
   "execution_count": null,
   "metadata": {
    "id": "BTvvPBfHll19"
   },
   "outputs": [],
   "source": [
    "with open(filepath, \"r\") as f:\n",
    "    file = json.load(f)"
   ]
  },
  {
   "cell_type": "code",
   "execution_count": null,
   "metadata": {
    "colab": {
     "base_uri": "https://localhost:8080/",
     "height": 638
    },
    "id": "2wl2FtQoloIf",
    "outputId": "7da3ad1e-0e2f-4c68-91b4-16a822fbdef2"
   },
   "outputs": [],
   "source": [
    "AddUtil.acc_loss_plot(file)"
   ]
  },
  {
   "cell_type": "code",
   "execution_count": null,
   "metadata": {
    "colab": {
     "base_uri": "https://localhost:8080/",
     "height": 638
    },
    "id": "9YX_tdgOlo48",
    "outputId": "4f4ccf47-befa-4458-849b-484a00e7eb02"
   },
   "outputs": [],
   "source": [
    "AddUtil.acc_loss_plot(file, kind=\"val\")"
   ]
  },
  {
   "cell_type": "markdown",
   "metadata": {
    "id": "PEaAAXKUKYmx"
   },
   "source": [
    "## (3.3) batch size = 16"
   ]
  },
  {
   "cell_type": "markdown",
   "metadata": {
    "id": "rV-7vIV9KdP2"
   },
   "source": [
    "EPOCHS = 64  \n",
    "BATCH_SIZE = 16    \n",
    "LEARNING_RATE = 0.001  \n",
    "NAME = \"alextnet_bs_16\"  "
   ]
  },
  {
   "cell_type": "code",
   "execution_count": null,
   "metadata": {
    "id": "TxuBpYpGKivf"
   },
   "outputs": [],
   "source": [
    "filepath = \"/content/drive/MyDrive/UNIMI/MachineLearning/UrbanSound/models/history_dict_alextnet_bs_16.json\""
   ]
  },
  {
   "cell_type": "code",
   "execution_count": null,
   "metadata": {
    "id": "O7snvC4SKkNK"
   },
   "outputs": [],
   "source": [
    "with open(filepath, \"r\") as f:\n",
    "    file = json.load(f)"
   ]
  },
  {
   "cell_type": "code",
   "execution_count": null,
   "metadata": {
    "colab": {
     "base_uri": "https://localhost:8080/",
     "height": 638
    },
    "id": "FiFQlF4GKmYM",
    "outputId": "0069165c-9ba8-401a-cce4-f7f195b8bfa9"
   },
   "outputs": [],
   "source": [
    "AddUtil.acc_loss_plot(file)"
   ]
  },
  {
   "cell_type": "code",
   "execution_count": null,
   "metadata": {
    "colab": {
     "base_uri": "https://localhost:8080/",
     "height": 638
    },
    "id": "080nJO_JKnyE",
    "outputId": "3cab65b8-0044-47ab-b31e-24ee9f646fa8"
   },
   "outputs": [],
   "source": [
    "AddUtil.acc_loss_plot(file, kind=\"val\")"
   ]
  },
  {
   "cell_type": "markdown",
   "metadata": {
    "id": "4k8i95z3l-yQ"
   },
   "source": [
    "## Comparison"
   ]
  },
  {
   "cell_type": "code",
   "execution_count": null,
   "metadata": {
    "colab": {
     "base_uri": "https://localhost:8080/"
    },
    "id": "Fn2zwrvKmBJe",
    "outputId": "6e7e4799-9bc9-4355-e7e8-3fccddba7789"
   },
   "outputs": [],
   "source": [
    "folderpath = \"/content/drive/MyDrive/UNIMI/MachineLearning/UrbanSound/models\"\n",
    "filepath = [os.path.join(folderpath, name) for name in os.listdir(folderpath) if (\"alextnet_bs\" in name) or (\"alextnet_baseline\" in name)]\n",
    "filepath"
   ]
  },
  {
   "cell_type": "code",
   "execution_count": null,
   "metadata": {
    "id": "XeBoGG2HmEuW"
   },
   "outputs": [],
   "source": [
    "histories = []\n",
    "for path in filepath:\n",
    "  with open(path, \"r\") as f:\n",
    "    file = json.load(f)\n",
    "  histories.append(file)"
   ]
  },
  {
   "cell_type": "code",
   "execution_count": null,
   "metadata": {
    "colab": {
     "base_uri": "https://localhost:8080/",
     "height": 624
    },
    "id": "3tqhSleMmJA7",
    "outputId": "be235aad-706e-4b25-97fd-603c4fb89f02"
   },
   "outputs": [],
   "source": [
    "AddUtil.loss_vs_param_plot(histories, par=[64, 32, 128, 16], par_name=\"batch size\")"
   ]
  },
  {
   "cell_type": "code",
   "execution_count": null,
   "metadata": {
    "id": "kS-JPWmumRUE"
   },
   "outputs": [],
   "source": []
  }
 ],
 "metadata": {
  "colab": {
   "collapsed_sections": [
    "q5DzlPd5s--T",
    "HYjZtr9ZJRkp",
    "8izeTAE6p72f"
   ],
   "name": "alexnet-results.ipynb",
   "provenance": []
  },
  "kernelspec": {
   "display_name": "Python 3",
   "language": "python",
   "name": "python3"
  },
  "language_info": {
   "codemirror_mode": {
    "name": "ipython",
    "version": 3
   },
   "file_extension": ".py",
   "mimetype": "text/x-python",
   "name": "python",
   "nbconvert_exporter": "python",
   "pygments_lexer": "ipython3",
   "version": "3.8.5"
  }
 },
 "nbformat": 4,
 "nbformat_minor": 1
}
