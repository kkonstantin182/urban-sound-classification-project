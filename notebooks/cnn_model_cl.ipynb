{
 "cells": [
  {
   "cell_type": "markdown",
   "metadata": {
    "id": "mEGWwfdn60fy"
   },
   "source": [
    "# (N) Importing modules\n"
   ]
  },
  {
   "cell_type": "code",
   "execution_count": null,
   "metadata": {
    "colab": {
     "base_uri": "https://localhost:8080/"
    },
    "id": "1RO-OkoV6c6F",
    "outputId": "72c906b0-bdf5-4327-a522-bfd202faacb8"
   },
   "outputs": [],
   "source": [
    "# connect Colab with Google Drive\n",
    "from google.colab import drive\n",
    "drive.mount('/content/drive')"
   ]
  },
  {
   "cell_type": "code",
   "execution_count": null,
   "metadata": {
    "id": "FKEjjNQX7ZkH"
   },
   "outputs": [],
   "source": [
    "# to import custom modules\n",
    "import sys\n",
    "sys.path.append(\"/content/drive/MyDrive/UNIMI/MachineLearning/UrbanSound/scripts\")"
   ]
  },
  {
   "cell_type": "code",
   "execution_count": null,
   "metadata": {
    "id": "FrzPxa0j7gzU"
   },
   "outputs": [],
   "source": [
    "import pandas as pd\n",
    "import numpy as np\n",
    "import tensorflow as tf\n",
    "from tensorflow import keras\n",
    "from tensorflow.keras.models import Sequential\n",
    "from tensorflow.keras.layers import Dense , Activation , Dropout, InputLayer, Conv2D, MaxPooling2D, Flatten, Input, LSTM\n",
    "from tensorflow.keras.layers.experimental import preprocessing\n",
    "from keras import regularizers\n",
    "from datetime import datetime\n",
    "import os\n",
    "import json"
   ]
  },
  {
   "cell_type": "code",
   "execution_count": null,
   "metadata": {
    "id": "Cw_pmwgn7jPG"
   },
   "outputs": [],
   "source": [
    "import AddUtil\n",
    "import DataLoader"
   ]
  },
  {
   "cell_type": "code",
   "execution_count": null,
   "metadata": {
    "id": "ji-rlQ8r7-u-"
   },
   "outputs": [],
   "source": [
    "AddUtil.reset_random_seeds()"
   ]
  },
  {
   "cell_type": "markdown",
   "metadata": {
    "id": "FTBhdgUh5BZm"
   },
   "source": [
    "# (II) Basic model"
   ]
  },
  {
   "cell_type": "code",
   "execution_count": null,
   "metadata": {
    "id": "0EkOcj-55GjB"
   },
   "outputs": [],
   "source": [
    "def cnn_model(X_train, \n",
    "              y_train,\n",
    "              X_val, \n",
    "              y_val,\n",
    "              X_test, \n",
    "              y_test, \n",
    "              ep=64, \n",
    "              bs=64, \n",
    "              name=\"cnn\", \n",
    "              l_rate=0.001):\n",
    "    \n",
    "    # Ensure reproducibility\n",
    "    AddUtil.reset_random_seeds()\n",
    "\n",
    "    # Build the model\n",
    "    model = Sequential()\n",
    "\n",
    "    model.add(Conv2D(24, (5, 5), input_shape=(128, 128, 1)))\n",
    "    model.add(MaxPooling2D((4, 2), (4, 2)))\n",
    "    model.add(Activation('relu'))\n",
    "          \n",
    "    model.add(Conv2D(48, (5, 5)))\n",
    "    model.add(MaxPooling2D((4, 2), (4, 2)))\n",
    "    model.add(Activation('relu'))\n",
    "          \n",
    "    model.add(Conv2D(48, (5, 5)))\n",
    "    model.add(Activation('relu'))\n",
    "\n",
    "    model.add(Flatten())\n",
    "\n",
    "    model.add(Dropout(0.5))\n",
    "    model.add(Dense(64, kernel_regularizer=regularizers.l2(0.001)))\n",
    "    model.add(Activation('relu'))\n",
    "\n",
    "    model.add(Dropout(0.5))\n",
    "    model.add(Dense(10, kernel_regularizer=regularizers.l2(0.001)))\n",
    "    model.add(Activation('softmax'))\n",
    "\n",
    "    # Compile the model\n",
    "    opt = keras.optimizers.Adam(learning_rate=l_rate)\n",
    "    model.compile(loss='categorical_crossentropy', optimizer=opt, metrics=['accuracy'])\n",
    "\n",
    "    # Train the model\n",
    "    history_model = model.fit(\n",
    "        x=X_train, \n",
    "        y=y_train, \n",
    "        epochs=ep,\n",
    "        batch_size=bs, \n",
    "        validation_data=(X_val, y_val),\n",
    "        verbose=1)\n",
    "    \n",
    "    # Save accuracy and loss on the trainining and validation samples to the file\n",
    "    history_dict_model = history_model.history\n",
    "    AddUtil.save_metrics(history_dict_model,f\"history_dict_{name}\")\n",
    "\n",
    "    # Save trained models (weights)\n",
    "    model.save(f\"/content/drive/MyDrive/UNIMI/MachineLearning/UrbanSound/pretrained_models/{name}\")\n",
    "\n",
    "    # Print training and validation loss and accuracy on the last epoch\n",
    "    AddUtil.print_metrics(history_dict_model)\n",
    "\n",
    "    # Evaluate the model on the test data:\n",
    "    print(AddUtil.fold_evaluate(model, X_test, y_test))"
   ]
  },
  {
   "cell_type": "markdown",
   "metadata": {
    "id": "rMIdE3QNjQM5"
   },
   "source": [
    "# (III) Influence of the sample rate"
   ]
  },
  {
   "cell_type": "markdown",
   "metadata": {
    "id": "ma-_pB-B6-Tv"
   },
   "source": [
    "## (3.1) CNN Model with sample_rate = 44100 Hz"
   ]
  },
  {
   "cell_type": "markdown",
   "metadata": {
    "id": "jQn4sl778LWK"
   },
   "source": [
    "### (3.1.1) Data Manipulation"
   ]
  },
  {
   "cell_type": "code",
   "execution_count": null,
   "metadata": {
    "id": "U0dBdSjT7BSA"
   },
   "outputs": [],
   "source": [
    "# Load features from the file\n",
    "path1 = \"/content/drive/MyDrive/UNIMI/MachineLearning/UrbanSound/features/spec_feat_with_stand_128_128_44100_1024_1024.npy\"\n",
    "df1 = DataLoader.create_df(path1)"
   ]
  },
  {
   "cell_type": "code",
   "execution_count": null,
   "metadata": {
    "colab": {
     "base_uri": "https://localhost:8080/"
    },
    "id": "OaDZGv098v-K",
    "outputId": "d82dc5d0-54f1-41db-a639-d93bcccb2e4f"
   },
   "outputs": [],
   "source": [
    "df1.info()"
   ]
  },
  {
   "cell_type": "code",
   "execution_count": null,
   "metadata": {
    "colab": {
     "base_uri": "https://localhost:8080/",
     "height": 202
    },
    "id": "J3NNtFkx80BE",
    "outputId": "da5a57e5-8769-4e7e-93a7-cbe59be2998d"
   },
   "outputs": [],
   "source": [
    "df1.head(5)"
   ]
  },
  {
   "cell_type": "code",
   "execution_count": null,
   "metadata": {
    "colab": {
     "base_uri": "https://localhost:8080/"
    },
    "id": "mQMVhQ5i9MfN",
    "outputId": "cf7df8dd-3ff1-4c0e-ce55-d12a2b03c181"
   },
   "outputs": [],
   "source": [
    "# Create training, validation and test subsets\n",
    "X_train, y_train, X_val, y_val, X_test, y_test = DataLoader.train_val_test_split(df1)"
   ]
  },
  {
   "cell_type": "code",
   "execution_count": null,
   "metadata": {
    "colab": {
     "base_uri": "https://localhost:8080/"
    },
    "id": "mSPrH3QoApzb",
    "outputId": "21605049-2316-43f0-84ff-2e293245156b"
   },
   "outputs": [],
   "source": [
    "X_train.shape, X_val.shape, X_test[0].shape"
   ]
  },
  {
   "cell_type": "code",
   "execution_count": null,
   "metadata": {
    "colab": {
     "base_uri": "https://localhost:8080/"
    },
    "id": "FZlppLjJA2ZU",
    "outputId": "2fe5af7c-f56b-4db0-9ea5-f1ea19355a73"
   },
   "outputs": [],
   "source": [
    "# cast size of training and validation sample to shape: (128, 128, 1)\n",
    "X_train_ext = X_train[..., np.newaxis]\n",
    "X_val_ext = X_val[..., np.newaxis]\n",
    "print(X_train_ext.shape, X_val_ext.shape)"
   ]
  },
  {
   "cell_type": "code",
   "execution_count": null,
   "metadata": {
    "id": "rkF16t5jBL2u"
   },
   "outputs": [],
   "source": [
    "# cast size of test sample to shape: (128, 128, 1)\n",
    "X_test_ext = []\n",
    "for item in X_test:\n",
    "    X_test_ext.append(item[..., np.newaxis])"
   ]
  },
  {
   "cell_type": "code",
   "execution_count": null,
   "metadata": {
    "colab": {
     "base_uri": "https://localhost:8080/"
    },
    "id": "zp1M8AzBCQbH",
    "outputId": "4a522715-210b-49d0-a178-a357d5084289"
   },
   "outputs": [],
   "source": [
    "for item in X_test_ext:\n",
    "    print(item.shape)"
   ]
  },
  {
   "cell_type": "markdown",
   "metadata": {
    "id": "C-ONyeNiDrmB"
   },
   "source": [
    "### (3.1.2) Model"
   ]
  },
  {
   "cell_type": "code",
   "execution_count": null,
   "metadata": {
    "id": "0Vnz_DkGHOfn"
   },
   "outputs": [],
   "source": [
    "EPOCHS = 64\n",
    "BATCH_SIZE = 64\n",
    "LEARNING_RATE = 0.001\n",
    "NAME = \"cnn1_44100\""
   ]
  },
  {
   "cell_type": "code",
   "execution_count": null,
   "metadata": {
    "colab": {
     "base_uri": "https://localhost:8080/"
    },
    "id": "8yvgCxwOYiRd",
    "outputId": "1f4cfbd1-cf8c-4c25-a79b-ec941120e885"
   },
   "outputs": [],
   "source": [
    "cnn1 = cnn_model(X_train_ext, \n",
    "                 y_train, \n",
    "                 X_val_ext, \n",
    "                 y_val, \n",
    "                 X_test_ext, \n",
    "                 y_test,\n",
    "                 ep=EPOCHS,\n",
    "                 bs=BATCH_SIZE,\n",
    "                 name=NAME,\n",
    "                 l_rate=LEARNING_RATE)"
   ]
  },
  {
   "cell_type": "markdown",
   "metadata": {
    "id": "2r-a4bp9qQn0"
   },
   "source": [
    "## (3.2) CNN Model with sample_rate = 22050 Hz"
   ]
  },
  {
   "cell_type": "markdown",
   "metadata": {
    "id": "lOW3t--v7NgB"
   },
   "source": [
    "### (3.2.1) Data Manipulation"
   ]
  },
  {
   "cell_type": "code",
   "execution_count": null,
   "metadata": {
    "colab": {
     "base_uri": "https://localhost:8080/"
    },
    "id": "IJTOcndfdVyt",
    "outputId": "b52f9f75-3dc3-4c7f-b980-d27d1a2f7349"
   },
   "outputs": [],
   "source": [
    "%reset"
   ]
  },
  {
   "cell_type": "code",
   "execution_count": null,
   "metadata": {
    "id": "9Sx98xl6fqHl"
   },
   "outputs": [],
   "source": [
    "# Load features from the file\n",
    "path2 = \"/content/drive/MyDrive/UNIMI/MachineLearning/UrbanSound/features/spec_feat_with_stand_128_128_22050_1024_1024.npy\"\n",
    "df2 = DataLoader.create_df(path2)"
   ]
  },
  {
   "cell_type": "code",
   "execution_count": null,
   "metadata": {
    "colab": {
     "base_uri": "https://localhost:8080/"
    },
    "id": "bTzlncfMqbwD",
    "outputId": "88488a26-110f-473a-e544-3ed726e3be61"
   },
   "outputs": [],
   "source": [
    "df2.info()"
   ]
  },
  {
   "cell_type": "code",
   "execution_count": null,
   "metadata": {
    "colab": {
     "base_uri": "https://localhost:8080/"
    },
    "id": "jFpNfhOyqhNW",
    "outputId": "ed7673b1-d797-4f45-f48e-f3cf0aef5b59"
   },
   "outputs": [],
   "source": [
    "# Create training, validation and test subsets\n",
    "X_train, y_train, X_val, y_val, X_test, y_test = DataLoader.train_val_test_split(df2)"
   ]
  },
  {
   "cell_type": "code",
   "execution_count": null,
   "metadata": {
    "colab": {
     "base_uri": "https://localhost:8080/"
    },
    "id": "NWvoSK4xqmvL",
    "outputId": "9492060d-3561-44bd-b16d-068d664dac91"
   },
   "outputs": [],
   "source": [
    "# cast size of training and validation sample to shape: (128, 128, 1)\n",
    "X_train_ext = X_train[..., np.newaxis]\n",
    "X_val_ext = X_val[..., np.newaxis]\n",
    "print(X_train_ext.shape, X_val_ext.shape)"
   ]
  },
  {
   "cell_type": "code",
   "execution_count": null,
   "metadata": {
    "id": "dJa3QOlCqsV_"
   },
   "outputs": [],
   "source": [
    "# cast size of test sample to shape: (128, 128, 1)\n",
    "X_test_ext = []\n",
    "for item in X_test:\n",
    "    X_test_ext.append(item[..., np.newaxis])"
   ]
  },
  {
   "cell_type": "code",
   "execution_count": null,
   "metadata": {
    "colab": {
     "base_uri": "https://localhost:8080/"
    },
    "id": "7XChMI33qxFE",
    "outputId": "4b652e89-97be-4148-d84f-92b803c95a4b"
   },
   "outputs": [],
   "source": [
    "for item in X_test_ext:\n",
    "    print(item.shape)"
   ]
  },
  {
   "cell_type": "markdown",
   "metadata": {
    "id": "arzD5aTE7Uxn"
   },
   "source": [
    "### (3.2.2) Model"
   ]
  },
  {
   "cell_type": "code",
   "execution_count": null,
   "metadata": {
    "id": "3jsjc0eMq0f6"
   },
   "outputs": [],
   "source": [
    "EPOCHS = 64\n",
    "BATCH_SIZE = 64\n",
    "LEARNING_RATE = 0.001\n",
    "NAME = \"cnn1_22050\""
   ]
  },
  {
   "cell_type": "code",
   "execution_count": null,
   "metadata": {
    "colab": {
     "base_uri": "https://localhost:8080/"
    },
    "id": "cfwVz__-q6IU",
    "outputId": "92e18d26-5e30-44ee-cf95-fc737830ce09"
   },
   "outputs": [],
   "source": [
    "cnn1 = cnn_model(X_train_ext, \n",
    "                 y_train, \n",
    "                 X_val_ext, \n",
    "                 y_val, \n",
    "                 X_test_ext, \n",
    "                 y_test,\n",
    "                 ep=EPOCHS,\n",
    "                 bs=BATCH_SIZE,\n",
    "                 name=NAME,\n",
    "                 l_rate=LEARNING_RATE)"
   ]
  },
  {
   "cell_type": "markdown",
   "metadata": {
    "id": "AMsYz1C67r02"
   },
   "source": [
    "## (3.3) CNN Model with sample_rate = 11025 Hz"
   ]
  },
  {
   "cell_type": "markdown",
   "metadata": {
    "id": "tZFFV4A176dw"
   },
   "source": [
    "### (3.3.1) Data Manipulation"
   ]
  },
  {
   "cell_type": "code",
   "execution_count": null,
   "metadata": {
    "colab": {
     "base_uri": "https://localhost:8080/"
    },
    "id": "XndzLsSQrBIy",
    "outputId": "6e0c9328-b25e-44a4-a1bb-43452adc4b74"
   },
   "outputs": [],
   "source": [
    "# Load features from the file\n",
    "path3 = \"/content/drive/MyDrive/UNIMI/MachineLearning/UrbanSound/features/spec_feat_with_stand_128_128_11025_1024_1024.npy\"\n",
    "df3 = DataLoader.create_df(path3)\n",
    "df3.info()"
   ]
  },
  {
   "cell_type": "code",
   "execution_count": null,
   "metadata": {
    "colab": {
     "base_uri": "https://localhost:8080/"
    },
    "id": "0Xzb39A98Pre",
    "outputId": "bb6a7af8-a700-4589-cc16-1bf8d1aceb49"
   },
   "outputs": [],
   "source": [
    "# Create training, validation and test subsets\n",
    "X_train, y_train, X_val, y_val, X_test, y_test = DataLoader.train_val_test_split(df3)"
   ]
  },
  {
   "cell_type": "code",
   "execution_count": null,
   "metadata": {
    "colab": {
     "base_uri": "https://localhost:8080/"
    },
    "id": "pq-BD2s38abJ",
    "outputId": "7e30c9e4-493c-4633-c323-6f8cc6ab6b2b"
   },
   "outputs": [],
   "source": [
    "# cast size of training and validation sample to shape: (128, 128, 1)\n",
    "X_train_ext = X_train[..., np.newaxis]\n",
    "X_val_ext = X_val[..., np.newaxis]\n",
    "print(X_train_ext.shape, X_val_ext.shape)"
   ]
  },
  {
   "cell_type": "code",
   "execution_count": null,
   "metadata": {
    "colab": {
     "base_uri": "https://localhost:8080/"
    },
    "id": "KnLeji928d1n",
    "outputId": "0b9f929a-36b7-4ee1-90b5-a2a07b490339"
   },
   "outputs": [],
   "source": [
    "# cast size of test sample to shape: (128, 128, 1)\n",
    "X_test_ext = []\n",
    "for item in X_test:\n",
    "    X_test_ext.append(item[..., np.newaxis])\n",
    "\n",
    "for item in X_test_ext:\n",
    "    print(item.shape)"
   ]
  },
  {
   "cell_type": "markdown",
   "metadata": {
    "id": "5XPFQBPQ78Va"
   },
   "source": [
    "### (3.3.2) Model"
   ]
  },
  {
   "cell_type": "code",
   "execution_count": null,
   "metadata": {
    "id": "25dFUzE17-Nf"
   },
   "outputs": [],
   "source": [
    "EPOCHS = 64\n",
    "BATCH_SIZE = 64\n",
    "LEARNING_RATE = 0.001\n",
    "NAME = \"cnn1_11025\""
   ]
  },
  {
   "cell_type": "code",
   "execution_count": null,
   "metadata": {
    "colab": {
     "base_uri": "https://localhost:8080/"
    },
    "id": "M89-ACes8r3r",
    "outputId": "8a27631f-68d4-43f1-cdec-67a579f339c0"
   },
   "outputs": [],
   "source": [
    "cnn3 = cnn_model(X_train_ext, \n",
    "                 y_train, \n",
    "                 X_val_ext, \n",
    "                 y_val, \n",
    "                 X_test_ext, \n",
    "                 y_test,\n",
    "                 ep=EPOCHS,\n",
    "                 bs=BATCH_SIZE,\n",
    "                 name=NAME,\n",
    "                 l_rate=LEARNING_RATE)"
   ]
  },
  {
   "cell_type": "markdown",
   "metadata": {
    "id": "Zi1bkY1u0tcC"
   },
   "source": [
    "## (3.4) CNN Model with sample_rate = 5512.5 Hz"
   ]
  },
  {
   "cell_type": "code",
   "execution_count": null,
   "metadata": {
    "colab": {
     "base_uri": "https://localhost:8080/"
    },
    "id": "z2ipRCFi1fDl",
    "outputId": "f95f1b73-94fa-45d0-ebbf-8c98d7f3e5ff"
   },
   "outputs": [],
   "source": [
    "%reset"
   ]
  },
  {
   "cell_type": "markdown",
   "metadata": {
    "id": "SChxbZzY02NI"
   },
   "source": [
    "### (3.4.1) Data Manipulation"
   ]
  },
  {
   "cell_type": "code",
   "execution_count": null,
   "metadata": {
    "colab": {
     "base_uri": "https://localhost:8080/"
    },
    "id": "SSyoNdbw8u9r",
    "outputId": "a8c4357b-15c6-4f69-973e-e7599c9ce41c"
   },
   "outputs": [],
   "source": [
    "# Load features from the file\n",
    "path4 = \"/content/drive/MyDrive/UNIMI/MachineLearning/UrbanSound/features/spec_feat_with_stand_128_128_5512.5_1024_1024.npy\"\n",
    "df4 = DataLoader.create_df(path4)\n",
    "df4.info()"
   ]
  },
  {
   "cell_type": "code",
   "execution_count": null,
   "metadata": {
    "colab": {
     "base_uri": "https://localhost:8080/"
    },
    "id": "xTGycTkZ1sbx",
    "outputId": "306017c6-3319-40fc-a512-bf3dbf1940cf"
   },
   "outputs": [],
   "source": [
    "# Create training, validation and test subsets\n",
    "X_train, y_train, X_val, y_val, X_test, y_test = DataLoader.train_val_test_split(df4)"
   ]
  },
  {
   "cell_type": "code",
   "execution_count": null,
   "metadata": {
    "colab": {
     "base_uri": "https://localhost:8080/"
    },
    "id": "pIg8dnBA11OF",
    "outputId": "605e8f35-09f7-490f-8285-6f9c52fc2a16"
   },
   "outputs": [],
   "source": [
    "# cast size of training and validation sample to shape: (128, 128, 1)\n",
    "X_train_ext = X_train[..., np.newaxis]\n",
    "X_val_ext = X_val[..., np.newaxis]\n",
    "print(X_train_ext.shape, X_val_ext.shape)"
   ]
  },
  {
   "cell_type": "code",
   "execution_count": null,
   "metadata": {
    "colab": {
     "base_uri": "https://localhost:8080/"
    },
    "id": "tY13lOb116cx",
    "outputId": "36c1ac37-c1f4-447f-ad5c-d5cef3e76ab1"
   },
   "outputs": [],
   "source": [
    "# cast size of test sample to shape: (128, 128, 1)\n",
    "X_test_ext = []\n",
    "for item in X_test:\n",
    "    X_test_ext.append(item[..., np.newaxis])\n",
    "\n",
    "for item in X_test_ext:\n",
    "    print(item.shape)"
   ]
  },
  {
   "cell_type": "markdown",
   "metadata": {
    "id": "5J2xTPfn19oz"
   },
   "source": [
    "### (3.4.2) Model"
   ]
  },
  {
   "cell_type": "code",
   "execution_count": null,
   "metadata": {
    "id": "UbC3mF7_18mT"
   },
   "outputs": [],
   "source": [
    "EPOCHS = 64\n",
    "BATCH_SIZE = 64\n",
    "LEARNING_RATE = 0.001\n",
    "NAME = \"cnn1_5512_5\""
   ]
  },
  {
   "cell_type": "code",
   "execution_count": null,
   "metadata": {
    "colab": {
     "base_uri": "https://localhost:8080/"
    },
    "id": "BYCJKfSf2E3B",
    "outputId": "56d1c596-0205-4a5b-e74a-38116482b948"
   },
   "outputs": [],
   "source": [
    "cnn4 = cnn_model(X_train_ext, \n",
    "                 y_train, \n",
    "                 X_val_ext, \n",
    "                 y_val, \n",
    "                 X_test_ext, \n",
    "                 y_test,\n",
    "                 ep=EPOCHS,\n",
    "                 bs=BATCH_SIZE,\n",
    "                 name=NAME,\n",
    "                 l_rate=LEARNING_RATE)"
   ]
  },
  {
   "cell_type": "markdown",
   "metadata": {
    "id": "_VZKGcquN_PB"
   },
   "source": [
    "# (IV) Data Manipulation"
   ]
  },
  {
   "cell_type": "markdown",
   "metadata": {
    "id": "G5b9ihR0OP-W"
   },
   "source": [
    "Extracting feature for the sample_rate = 11025 Hz for the further experiments."
   ]
  },
  {
   "cell_type": "code",
   "execution_count": null,
   "metadata": {
    "colab": {
     "base_uri": "https://localhost:8080/"
    },
    "id": "4hqfOQ6G2Il-",
    "outputId": "1afca9c1-2319-4af6-9ec8-8b8aa60fe90c"
   },
   "outputs": [],
   "source": [
    "# Load features from the file\n",
    "path = \"/content/drive/MyDrive/UNIMI/MachineLearning/UrbanSound/features/spec_feat_with_stand_128_128_11025_1024_1024.npy\"\n",
    "df = DataLoader.create_df(path)\n",
    "df.info()"
   ]
  },
  {
   "cell_type": "code",
   "execution_count": null,
   "metadata": {
    "colab": {
     "base_uri": "https://localhost:8080/"
    },
    "id": "XZsdItTAOfI7",
    "outputId": "ad35da93-655a-40ba-bbdc-475c5d3a0c98"
   },
   "outputs": [],
   "source": [
    "# Create training, validation and test subsets\n",
    "X_train, y_train, X_val, y_val, X_test, y_test = DataLoader.train_val_test_split(df)"
   ]
  },
  {
   "cell_type": "code",
   "execution_count": null,
   "metadata": {
    "colab": {
     "base_uri": "https://localhost:8080/"
    },
    "id": "C6T9ISdcOgi0",
    "outputId": "1ba0be95-3cd4-459b-e82a-c56d185930cc"
   },
   "outputs": [],
   "source": [
    "# cast size of training and validation sample to shape: (128, 128, 1)\n",
    "X_train_ext = X_train[..., np.newaxis]\n",
    "X_val_ext = X_val[..., np.newaxis]\n",
    "print(X_train_ext.shape, X_val_ext.shape)"
   ]
  },
  {
   "cell_type": "code",
   "execution_count": null,
   "metadata": {
    "colab": {
     "base_uri": "https://localhost:8080/"
    },
    "id": "uZjfWh7bOh_m",
    "outputId": "316a6f99-cb38-4a2b-dd9b-5a1b50d01d7a"
   },
   "outputs": [],
   "source": [
    "# cast size of test sample to shape: (128, 128, 1)\n",
    "X_test_ext = []\n",
    "for item in X_test:\n",
    "    X_test_ext.append(item[..., np.newaxis])\n",
    "\n",
    "for item in X_test_ext:\n",
    "    print(item.shape)"
   ]
  },
  {
   "cell_type": "markdown",
   "metadata": {
    "id": "MV2uG4FWOmxy"
   },
   "source": [
    "# (V) Influence of learning rate"
   ]
  },
  {
   "cell_type": "markdown",
   "metadata": {
    "id": "gaFXy80X7fiD"
   },
   "source": [
    "## l_rate = 0.00001"
   ]
  },
  {
   "cell_type": "code",
   "execution_count": null,
   "metadata": {
    "id": "tl4zmkhZAdPU"
   },
   "outputs": [],
   "source": [
    "%reset"
   ]
  },
  {
   "cell_type": "code",
   "execution_count": null,
   "metadata": {
    "id": "xjqNDOv17qVt"
   },
   "outputs": [],
   "source": [
    "EPOCHS = 64\n",
    "BATCH_SIZE = 64\n",
    "LEARNING_RATE = 0.00001\n",
    "NAME = \"cnn_lr_00001\""
   ]
  },
  {
   "cell_type": "code",
   "execution_count": null,
   "metadata": {
    "colab": {
     "base_uri": "https://localhost:8080/"
    },
    "id": "QPy1lJktAzwD",
    "outputId": "f01fe681-9d1f-4708-99f8-f74cfa806f2a"
   },
   "outputs": [],
   "source": [
    "print(EPOCHS, BATCH_SIZE, LEARNING_RATE, NAME)"
   ]
  },
  {
   "cell_type": "code",
   "execution_count": null,
   "metadata": {
    "colab": {
     "base_uri": "https://localhost:8080/"
    },
    "id": "W9R8-jRF7urG",
    "outputId": "45954687-5fe0-4a42-9e30-d6bdeca01e70"
   },
   "outputs": [],
   "source": [
    "cnn_model(X_train_ext, \n",
    "              y_train, \n",
    "              X_val_ext, \n",
    "              y_val, \n",
    "              X_test_ext, \n",
    "              y_test,\n",
    "              ep=EPOCHS,\n",
    "              bs=BATCH_SIZE,\n",
    "              name=NAME,\n",
    "              l_rate=LEARNING_RATE)"
   ]
  },
  {
   "cell_type": "markdown",
   "metadata": {
    "id": "7ltNu6GHOxMJ"
   },
   "source": [
    "## l_rate = 0.0001"
   ]
  },
  {
   "cell_type": "code",
   "execution_count": null,
   "metadata": {
    "colab": {
     "base_uri": "https://localhost:8080/"
    },
    "id": "x-SJyjHhBodd",
    "outputId": "fe072d56-351b-43e4-ddad-0a785d016168"
   },
   "outputs": [],
   "source": [
    "%reset"
   ]
  },
  {
   "cell_type": "code",
   "execution_count": null,
   "metadata": {
    "id": "eCaxd70DOkNL"
   },
   "outputs": [],
   "source": [
    "EPOCHS = 64\n",
    "BATCH_SIZE = 64\n",
    "LEARNING_RATE = 0.0001\n",
    "NAME = \"cnn_lr_0001\""
   ]
  },
  {
   "cell_type": "code",
   "execution_count": null,
   "metadata": {
    "colab": {
     "base_uri": "https://localhost:8080/"
    },
    "id": "HMHYdM_OPcBb",
    "outputId": "f33b30c4-f4d7-4b0f-ccd1-eea2bc23f329"
   },
   "outputs": [],
   "source": [
    "print(EPOCHS, BATCH_SIZE, LEARNING_RATE, NAME)"
   ]
  },
  {
   "cell_type": "code",
   "execution_count": null,
   "metadata": {
    "colab": {
     "base_uri": "https://localhost:8080/"
    },
    "id": "s931HSRRO6k0",
    "outputId": "c30f4c72-99f3-4144-cef8-2ac3947881fd"
   },
   "outputs": [],
   "source": [
    "cnn_model(X_train_ext, \n",
    "              y_train, \n",
    "              X_val_ext, \n",
    "              y_val, \n",
    "              X_test_ext, \n",
    "              y_test,\n",
    "              ep=EPOCHS,\n",
    "              bs=BATCH_SIZE,\n",
    "              name=NAME,\n",
    "              l_rate=LEARNING_RATE)"
   ]
  },
  {
   "cell_type": "markdown",
   "metadata": {
    "id": "2cDmhob-AN7z"
   },
   "source": [
    "## l_rate = 0.001"
   ]
  },
  {
   "cell_type": "code",
   "execution_count": null,
   "metadata": {
    "colab": {
     "base_uri": "https://localhost:8080/"
    },
    "id": "1nMZmMBkCmqc",
    "outputId": "14882a43-9059-4c02-da2b-3283c495ed64"
   },
   "outputs": [],
   "source": [
    "%reset"
   ]
  },
  {
   "cell_type": "code",
   "execution_count": null,
   "metadata": {
    "id": "nnGawPotAT_r"
   },
   "outputs": [],
   "source": [
    "EPOCHS = 64\n",
    "BATCH_SIZE = 64\n",
    "LEARNING_RATE = 0.001\n",
    "NAME = \"cnn_lr_001\""
   ]
  },
  {
   "cell_type": "code",
   "execution_count": null,
   "metadata": {
    "colab": {
     "base_uri": "https://localhost:8080/"
    },
    "id": "DjtNPE24AWfj",
    "outputId": "e232e344-6581-40b8-8fbc-331fdf1c015d"
   },
   "outputs": [],
   "source": [
    "print(EPOCHS, BATCH_SIZE, LEARNING_RATE, NAME)"
   ]
  },
  {
   "cell_type": "code",
   "execution_count": null,
   "metadata": {
    "colab": {
     "base_uri": "https://localhost:8080/"
    },
    "id": "JX-bwp72AaWS",
    "outputId": "ae56d6af-7d60-4c04-b8c5-27062c670810"
   },
   "outputs": [],
   "source": [
    "cnn_model(X_train_ext, \n",
    "              y_train, \n",
    "              X_val_ext, \n",
    "              y_val, \n",
    "              X_test_ext, \n",
    "              y_test,\n",
    "              ep=EPOCHS,\n",
    "              bs=BATCH_SIZE,\n",
    "              name=NAME,\n",
    "              l_rate=LEARNING_RATE)"
   ]
  },
  {
   "cell_type": "markdown",
   "metadata": {
    "id": "mcLoevdshb5D"
   },
   "source": [
    "## l_rate = 0.01"
   ]
  },
  {
   "cell_type": "code",
   "execution_count": null,
   "metadata": {
    "colab": {
     "base_uri": "https://localhost:8080/"
    },
    "id": "HtDQP9LnC3l4",
    "outputId": "5da196fe-de3c-413b-ad34-e45f0ebd9645"
   },
   "outputs": [],
   "source": [
    "%reset"
   ]
  },
  {
   "cell_type": "code",
   "execution_count": null,
   "metadata": {
    "id": "8XEpuMbshcM3"
   },
   "outputs": [],
   "source": [
    "EPOCHS = 64\n",
    "BATCH_SIZE = 64\n",
    "LEARNING_RATE = 0.01\n",
    "NAME = \"cnn_lr_01\""
   ]
  },
  {
   "cell_type": "code",
   "execution_count": null,
   "metadata": {
    "colab": {
     "base_uri": "https://localhost:8080/"
    },
    "id": "J_PUm6xXhiaX",
    "outputId": "a5d6dee3-99e1-468d-fd42-02e6d0f608b3"
   },
   "outputs": [],
   "source": [
    "print(EPOCHS, BATCH_SIZE, LEARNING_RATE, NAME)"
   ]
  },
  {
   "cell_type": "code",
   "execution_count": null,
   "metadata": {
    "colab": {
     "base_uri": "https://localhost:8080/"
    },
    "id": "iZ8lALIphme9",
    "outputId": "4b9d9e52-e997-4223-8a50-fb2f63811cfe"
   },
   "outputs": [],
   "source": [
    "cnn_model(X_train_ext, \n",
    "              y_train, \n",
    "              X_val_ext, \n",
    "              y_val, \n",
    "              X_test_ext, \n",
    "              y_test,\n",
    "              ep=EPOCHS,\n",
    "              bs=BATCH_SIZE,\n",
    "              name=NAME,\n",
    "              l_rate=LEARNING_RATE)"
   ]
  },
  {
   "cell_type": "markdown",
   "metadata": {
    "id": "7XAr1bDFHo68"
   },
   "source": [
    "# (VI) Influence of batch size"
   ]
  },
  {
   "cell_type": "markdown",
   "metadata": {
    "id": "pCgNd6FGHwAD"
   },
   "source": [
    "## batch size = 32"
   ]
  },
  {
   "cell_type": "code",
   "execution_count": null,
   "metadata": {
    "id": "CLzJWqXYHt3v"
   },
   "outputs": [],
   "source": [
    "EPOCHS = 64\n",
    "BATCH_SIZE = 32\n",
    "LEARNING_RATE = 0.0001\n",
    "NAME = \"cnn_bs_32\""
   ]
  },
  {
   "cell_type": "code",
   "execution_count": null,
   "metadata": {
    "colab": {
     "base_uri": "https://localhost:8080/"
    },
    "id": "fGQq5EDfIFQA",
    "outputId": "ab969296-c03b-4c2e-9283-3d820ca736a2"
   },
   "outputs": [],
   "source": [
    "print(EPOCHS, BATCH_SIZE, LEARNING_RATE, NAME)"
   ]
  },
  {
   "cell_type": "code",
   "execution_count": null,
   "metadata": {
    "colab": {
     "base_uri": "https://localhost:8080/"
    },
    "id": "ljG7CjVBIFgY",
    "outputId": "46441098-83c3-4c7b-c4dc-1adda6a0e2a0"
   },
   "outputs": [],
   "source": [
    "cnn_model(X_train_ext, \n",
    "              y_train, \n",
    "              X_val_ext, \n",
    "              y_val, \n",
    "              X_test_ext, \n",
    "              y_test,\n",
    "              ep=EPOCHS,\n",
    "              bs=BATCH_SIZE,\n",
    "              name=NAME,\n",
    "              l_rate=LEARNING_RATE)"
   ]
  },
  {
   "cell_type": "markdown",
   "metadata": {
    "id": "DVsQWQaVH4jL"
   },
   "source": [
    "## batch size = 128"
   ]
  },
  {
   "cell_type": "code",
   "execution_count": null,
   "metadata": {
    "id": "H4CYlJF-H7VH"
   },
   "outputs": [],
   "source": [
    "EPOCHS = 64\n",
    "BATCH_SIZE = 128\n",
    "LEARNING_RATE = 0.0001\n",
    "NAME = \"cnn_bs_128\""
   ]
  },
  {
   "cell_type": "code",
   "execution_count": null,
   "metadata": {
    "colab": {
     "base_uri": "https://localhost:8080/"
    },
    "id": "2VXhJ4z-IljJ",
    "outputId": "1497a44c-dca0-44e9-9725-59cfbaad0a30"
   },
   "outputs": [],
   "source": [
    "print(EPOCHS, BATCH_SIZE, LEARNING_RATE, NAME)"
   ]
  },
  {
   "cell_type": "code",
   "execution_count": null,
   "metadata": {
    "colab": {
     "base_uri": "https://localhost:8080/"
    },
    "id": "j1FcyBO2Il4U",
    "outputId": "5bf10dc5-3828-49dd-b64a-f0f5e1c18e42"
   },
   "outputs": [],
   "source": [
    "cnn_model(X_train_ext, \n",
    "              y_train, \n",
    "              X_val_ext, \n",
    "              y_val, \n",
    "              X_test_ext, \n",
    "              y_test,\n",
    "              ep=EPOCHS,\n",
    "              bs=BATCH_SIZE,\n",
    "              name=NAME,\n",
    "              l_rate=LEARNING_RATE)"
   ]
  },
  {
   "cell_type": "markdown",
   "metadata": {
    "id": "a2wHiS5_fMll"
   },
   "source": [
    "## batch size = 16"
   ]
  },
  {
   "cell_type": "code",
   "execution_count": null,
   "metadata": {
    "id": "jkD76rkKfRGE"
   },
   "outputs": [],
   "source": [
    "EPOCHS = 64\n",
    "BATCH_SIZE = 16\n",
    "LEARNING_RATE = 0.0001\n",
    "NAME = \"cnn_bs_16\""
   ]
  },
  {
   "cell_type": "code",
   "execution_count": null,
   "metadata": {
    "colab": {
     "base_uri": "https://localhost:8080/"
    },
    "id": "ZIIbXtrHfWxJ",
    "outputId": "3ff41dcf-47b0-4a1c-e3ee-ece81cfeb5d8"
   },
   "outputs": [],
   "source": [
    "print(EPOCHS, BATCH_SIZE, LEARNING_RATE, NAME)"
   ]
  },
  {
   "cell_type": "code",
   "execution_count": null,
   "metadata": {
    "colab": {
     "base_uri": "https://localhost:8080/"
    },
    "id": "XMbJN3NSfXEM",
    "outputId": "40a1956c-5fd9-4dd8-86c4-d35335ce40e4"
   },
   "outputs": [],
   "source": [
    "cnn_model(X_train_ext, \n",
    "              y_train, \n",
    "              X_val_ext, \n",
    "              y_val, \n",
    "              X_test_ext, \n",
    "              y_test,\n",
    "              ep=EPOCHS,\n",
    "              bs=BATCH_SIZE,\n",
    "              name=NAME,\n",
    "              l_rate=LEARNING_RATE)"
   ]
  },
  {
   "cell_type": "markdown",
   "metadata": {
    "id": "RViviy02S-xd"
   },
   "source": [
    "## batch size = 8"
   ]
  },
  {
   "cell_type": "code",
   "execution_count": null,
   "metadata": {
    "id": "P5pd99n-S_cv"
   },
   "outputs": [],
   "source": [
    "EPOCHS = 64\n",
    "BATCH_SIZE = 8\n",
    "LEARNING_RATE = 0.0001\n",
    "NAME = \"cnn_bs_8\""
   ]
  },
  {
   "cell_type": "code",
   "execution_count": null,
   "metadata": {
    "colab": {
     "base_uri": "https://localhost:8080/"
    },
    "id": "ZXhrhMSiTF9A",
    "outputId": "34a34c2f-3810-462c-ced0-b0d892b584f0"
   },
   "outputs": [],
   "source": [
    "print(EPOCHS, BATCH_SIZE, LEARNING_RATE, NAME)"
   ]
  },
  {
   "cell_type": "code",
   "execution_count": null,
   "metadata": {
    "colab": {
     "base_uri": "https://localhost:8080/"
    },
    "id": "oOEVAEsUTH-b",
    "outputId": "86ae2ff2-f236-4848-a582-d470493a49c7"
   },
   "outputs": [],
   "source": [
    "cnn_model(X_train_ext, \n",
    "              y_train, \n",
    "              X_val_ext, \n",
    "              y_val, \n",
    "              X_test_ext, \n",
    "              y_test,\n",
    "              ep=EPOCHS,\n",
    "              bs=BATCH_SIZE,\n",
    "              name=NAME,\n",
    "              l_rate=LEARNING_RATE)"
   ]
  }
 ],
 "metadata": {
  "accelerator": "GPU",
  "colab": {
   "collapsed_sections": [
    "FTBhdgUh5BZm",
    "rMIdE3QNjQM5",
    "ma-_pB-B6-Tv",
    "jQn4sl778LWK",
    "C-ONyeNiDrmB",
    "2r-a4bp9qQn0",
    "lOW3t--v7NgB",
    "AMsYz1C67r02",
    "tZFFV4A176dw",
    "5XPFQBPQ78Va",
    "Zi1bkY1u0tcC",
    "SChxbZzY02NI",
    "5J2xTPfn19oz",
    "_VZKGcquN_PB",
    "MV2uG4FWOmxy",
    "gaFXy80X7fiD",
    "7ltNu6GHOxMJ",
    "2cDmhob-AN7z",
    "pCgNd6FGHwAD",
    "DVsQWQaVH4jL",
    "a2wHiS5_fMll"
   ],
   "name": "cnn-model.ipynb",
   "provenance": [],
   "toc_visible": true
  },
  "kernelspec": {
   "display_name": "Python 3",
   "language": "python",
   "name": "python3"
  },
  "language_info": {
   "codemirror_mode": {
    "name": "ipython",
    "version": 3
   },
   "file_extension": ".py",
   "mimetype": "text/x-python",
   "name": "python",
   "nbconvert_exporter": "python",
   "pygments_lexer": "ipython3",
   "version": "3.8.5"
  }
 },
 "nbformat": 4,
 "nbformat_minor": 1
}
