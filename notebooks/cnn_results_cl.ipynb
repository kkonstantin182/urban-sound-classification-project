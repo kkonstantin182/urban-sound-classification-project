{
 "cells": [
  {
   "cell_type": "markdown",
   "metadata": {
    "id": "s5SAL8uoRZPP"
   },
   "source": [
    "# (N) Importing modules"
   ]
  },
  {
   "cell_type": "code",
   "execution_count": null,
   "metadata": {
    "colab": {
     "base_uri": "https://localhost:8080/"
    },
    "id": "cXKXS2mgRVyx",
    "outputId": "142024e7-71d2-4b55-efe7-212e28c2f1d7"
   },
   "outputs": [],
   "source": [
    "# connect Colab with Google Drive\n",
    "from google.colab import drive\n",
    "drive.mount('/content/drive')"
   ]
  },
  {
   "cell_type": "code",
   "execution_count": null,
   "metadata": {
    "id": "OznRP5s0Rbae"
   },
   "outputs": [],
   "source": [
    "# to import custom modules\n",
    "import sys\n",
    "sys.path.append(\"/content/drive/MyDrive/UNIMI/MachineLearning/UrbanSound/scripts\")"
   ]
  },
  {
   "cell_type": "code",
   "execution_count": null,
   "metadata": {
    "id": "QWOZXrhWRidL"
   },
   "outputs": [],
   "source": [
    "import AddUtil"
   ]
  },
  {
   "cell_type": "code",
   "execution_count": null,
   "metadata": {
    "id": "DW2LTrY_Rj-p"
   },
   "outputs": [],
   "source": [
    "import json\n",
    "import os"
   ]
  },
  {
   "cell_type": "markdown",
   "metadata": {
    "id": "720kDLLkRmSF"
   },
   "source": [
    "# (I) Baseline"
   ]
  },
  {
   "cell_type": "markdown",
   "metadata": {
    "id": "6MrFN2fF7g9f"
   },
   "source": [
    "EPOCHS = 64  \n",
    "BATCH_SIZE = 64  \n",
    "LEARNING_RATE = 0.001  \n",
    "NAME = \"cnn1_11025\"  "
   ]
  },
  {
   "cell_type": "code",
   "execution_count": null,
   "metadata": {
    "id": "Er_gEq5RRlTz"
   },
   "outputs": [],
   "source": [
    "filepath = \"/content/drive/MyDrive/UNIMI/MachineLearning/UrbanSound/models/history_dict_cnn1_11025.json\""
   ]
  },
  {
   "cell_type": "code",
   "execution_count": null,
   "metadata": {
    "id": "KSgKcvLg7vuu"
   },
   "outputs": [],
   "source": [
    "with open(filepath, \"r\") as f:\n",
    "    file = json.load(f)"
   ]
  },
  {
   "cell_type": "code",
   "execution_count": null,
   "metadata": {
    "colab": {
     "base_uri": "https://localhost:8080/"
    },
    "id": "_ESzpTQM7xHZ",
    "outputId": "90bf0302-bb02-4656-b4d8-31fe43e92333"
   },
   "outputs": [],
   "source": [
    "AddUtil.acc_loss_plot(file)"
   ]
  },
  {
   "cell_type": "code",
   "execution_count": null,
   "metadata": {
    "colab": {
     "base_uri": "https://localhost:8080/"
    },
    "id": "RUj3LM1g7znQ",
    "outputId": "860ff851-6eda-4be0-9712-db71d0dcb477"
   },
   "outputs": [],
   "source": [
    "AddUtil.acc_loss_plot(file, kind='val')"
   ]
  },
  {
   "cell_type": "code",
   "execution_count": null,
   "metadata": {
    "id": "O1wGF-IK71eg"
   },
   "outputs": [],
   "source": []
  },
  {
   "cell_type": "markdown",
   "metadata": {
    "id": "mReWwHNf8MWM"
   },
   "source": [
    "# (II) Learning rate"
   ]
  },
  {
   "cell_type": "markdown",
   "metadata": {
    "id": "inX4QkNqSj2E"
   },
   "source": [
    "## (2.0) l_rate = 0.00001"
   ]
  },
  {
   "cell_type": "markdown",
   "metadata": {
    "id": "8kpRjHIpSo5W"
   },
   "source": [
    "EPOCHS = 64  \n",
    "BATCH_SIZE = 64  \n",
    "LEARNING_RATE = 0.00001  \n",
    "NAME = \"cnn_lr_00001\"  "
   ]
  },
  {
   "cell_type": "code",
   "execution_count": null,
   "metadata": {
    "id": "WTvehlDNStWF"
   },
   "outputs": [],
   "source": [
    "filepath = \"/content/drive/MyDrive/UNIMI/MachineLearning/UrbanSound/models/history_dict_cnn_lr_00001.json\""
   ]
  },
  {
   "cell_type": "code",
   "execution_count": null,
   "metadata": {
    "id": "wu5CYLV3SvUB"
   },
   "outputs": [],
   "source": [
    "with open(filepath, \"r\") as f:\n",
    "    file = json.load(f)"
   ]
  },
  {
   "cell_type": "code",
   "execution_count": null,
   "metadata": {
    "colab": {
     "base_uri": "https://localhost:8080/",
     "height": 638
    },
    "id": "F8gF1ccwSwfS",
    "outputId": "e6dde480-8ca8-4984-a154-5bd20c935d88"
   },
   "outputs": [],
   "source": [
    "AddUtil.acc_loss_plot(file)"
   ]
  },
  {
   "cell_type": "code",
   "execution_count": null,
   "metadata": {
    "colab": {
     "base_uri": "https://localhost:8080/",
     "height": 638
    },
    "id": "_DvIPUskS0m3",
    "outputId": "41ead891-7416-471e-c51d-3955003ccb55"
   },
   "outputs": [],
   "source": [
    "AddUtil.acc_loss_plot(file, kind=\"val\")"
   ]
  },
  {
   "cell_type": "markdown",
   "metadata": {
    "id": "C9Kji4Jd8SAS"
   },
   "source": [
    "## (2.1) l_rate = 0.0001"
   ]
  },
  {
   "cell_type": "markdown",
   "metadata": {
    "id": "BWVVP4bx8WPF"
   },
   "source": [
    "EPOCHS = 64  \n",
    "BATCH_SIZE = 64  \n",
    "LEARNING_RATE = 0.0001  \n",
    "NAME = \"cnn_lr_0001\"  "
   ]
  },
  {
   "cell_type": "code",
   "execution_count": null,
   "metadata": {
    "id": "xlGf9UBc8Ok2"
   },
   "outputs": [],
   "source": [
    "filepath = \"/content/drive/MyDrive/UNIMI/MachineLearning/UrbanSound/models/history_dict_cnn_lr_0001.json\""
   ]
  },
  {
   "cell_type": "code",
   "execution_count": null,
   "metadata": {
    "id": "sFnhxqsR8kPH"
   },
   "outputs": [],
   "source": [
    "with open(filepath, \"r\") as f:\n",
    "    file = json.load(f)"
   ]
  },
  {
   "cell_type": "code",
   "execution_count": null,
   "metadata": {
    "colab": {
     "base_uri": "https://localhost:8080/",
     "height": 643
    },
    "id": "RgfmMOVw8lXt",
    "outputId": "c9bae31d-b77c-4cf2-a53b-9b05288c21ef"
   },
   "outputs": [],
   "source": [
    "AddUtil.acc_loss_plot(file)"
   ]
  },
  {
   "cell_type": "code",
   "execution_count": null,
   "metadata": {
    "colab": {
     "base_uri": "https://localhost:8080/",
     "height": 638
    },
    "id": "_BDGf4-n8mx1",
    "outputId": "514651ce-6d6a-4d1a-a2fe-ae898070763f"
   },
   "outputs": [],
   "source": [
    "AddUtil.acc_loss_plot(file, kind=\"val\")"
   ]
  },
  {
   "cell_type": "markdown",
   "metadata": {
    "id": "waQqnu2H9Dhi"
   },
   "source": [
    "## (2.2) l_rate = 0.01"
   ]
  },
  {
   "cell_type": "markdown",
   "metadata": {
    "id": "VYN8Bnks9HhZ"
   },
   "source": [
    "EPOCHS = 64  \n",
    "BATCH_SIZE = 64  \n",
    "LEARNING_RATE = 0.01  \n",
    "NAME = \"cnn_lr_01\"  "
   ]
  },
  {
   "cell_type": "code",
   "execution_count": null,
   "metadata": {
    "id": "8Dmku7nf8o60"
   },
   "outputs": [],
   "source": [
    "filepath = \"/content/drive/MyDrive/UNIMI/MachineLearning/UrbanSound/models/history_dict_cnn_lr_01.json\""
   ]
  },
  {
   "cell_type": "code",
   "execution_count": null,
   "metadata": {
    "id": "agTVQF0P9L5Q"
   },
   "outputs": [],
   "source": [
    "with open(filepath, \"r\") as f:\n",
    "    file = json.load(f)"
   ]
  },
  {
   "cell_type": "code",
   "execution_count": null,
   "metadata": {
    "colab": {
     "base_uri": "https://localhost:8080/",
     "height": 638
    },
    "id": "CIQY18Nd9NQT",
    "outputId": "fef8e26b-08e6-4d3e-f4f3-af67d6db06b2"
   },
   "outputs": [],
   "source": [
    "AddUtil.acc_loss_plot(file)"
   ]
  },
  {
   "cell_type": "code",
   "execution_count": null,
   "metadata": {
    "colab": {
     "base_uri": "https://localhost:8080/",
     "height": 638
    },
    "id": "L8-GI6HN9PEY",
    "outputId": "2b83131c-da65-4339-d2c6-7b54c198b946"
   },
   "outputs": [],
   "source": [
    "AddUtil.acc_loss_plot(file, kind=\"val\")"
   ]
  },
  {
   "cell_type": "markdown",
   "metadata": {
    "id": "Ag4Bhta69YUs"
   },
   "source": [
    "## Comparison"
   ]
  },
  {
   "cell_type": "code",
   "execution_count": null,
   "metadata": {
    "colab": {
     "base_uri": "https://localhost:8080/"
    },
    "id": "8PCDh3B29QF6",
    "outputId": "045c70c6-dc84-4a05-91a4-4d8fdb1a9dac"
   },
   "outputs": [],
   "source": [
    "folderpath = \"/content/drive/MyDrive/UNIMI/MachineLearning/UrbanSound/models\"\n",
    "#filepath = [os.path.join(folderpath, name) for name in os.listdir(folderpath) if (\"cnn_lr\" in name) or (\"cnn1_11025\" in name)]\n",
    "filepath = [os.path.join(folderpath, name) for name in os.listdir(folderpath) if (\"cnn_lr\" in name)]\n",
    "filepath"
   ]
  },
  {
   "cell_type": "code",
   "execution_count": null,
   "metadata": {
    "id": "9CIHvtdZ9f6O"
   },
   "outputs": [],
   "source": [
    "histories = []\n",
    "for path in filepath:\n",
    "  with open(path, \"r\") as f:\n",
    "    file = json.load(f)\n",
    "  histories.append(file)"
   ]
  },
  {
   "cell_type": "code",
   "execution_count": null,
   "metadata": {
    "colab": {
     "base_uri": "https://localhost:8080/"
    },
    "id": "Y8KS0uTi9s3f",
    "outputId": "168d9856-a862-48ae-a5f2-f8441cb143c7"
   },
   "outputs": [],
   "source": [
    "AddUtil.loss_vs_param_plot(histories, par=[0.0001, 0.01, 0.00001, 0.1, 0.001], par_name=\"learning rate\", line=True)"
   ]
  },
  {
   "cell_type": "markdown",
   "metadata": {
    "id": "wuqY-xAZbM5k"
   },
   "source": [
    "# (III) Batch Size"
   ]
  },
  {
   "cell_type": "markdown",
   "metadata": {
    "id": "79gToc3sbwMS"
   },
   "source": [
    "## batch size = 32"
   ]
  },
  {
   "cell_type": "markdown",
   "metadata": {
    "id": "WFFG1auob94o"
   },
   "source": [
    "EPOCHS = 64  \n",
    "BATCH_SIZE = 32  \n",
    "LEARNING_RATE = 0.0001  \n",
    "NAME = \"cnn_bs_32\"  "
   ]
  },
  {
   "cell_type": "code",
   "execution_count": null,
   "metadata": {
    "id": "s6c8eH_obuzP"
   },
   "outputs": [],
   "source": [
    "filepath = \"/content/drive/MyDrive/UNIMI/MachineLearning/UrbanSound/models/history_dict_cnn_bs_32.json\""
   ]
  },
  {
   "cell_type": "code",
   "execution_count": null,
   "metadata": {
    "id": "iLkIHuHvcDSp"
   },
   "outputs": [],
   "source": [
    "with open(filepath, \"r\") as f:\n",
    "    file = json.load(f)"
   ]
  },
  {
   "cell_type": "code",
   "execution_count": null,
   "metadata": {
    "colab": {
     "base_uri": "https://localhost:8080/"
    },
    "id": "tdjEoWkacDov",
    "outputId": "723abc87-4ff5-4b01-f7ab-6f519299b9df"
   },
   "outputs": [],
   "source": [
    "AddUtil.acc_loss_plot(file)"
   ]
  },
  {
   "cell_type": "code",
   "execution_count": null,
   "metadata": {
    "colab": {
     "base_uri": "https://localhost:8080/"
    },
    "id": "DlC2-0y2cG1X",
    "outputId": "3587eacd-27f8-4172-c78c-33e20bce6010"
   },
   "outputs": [],
   "source": [
    "AddUtil.acc_loss_plot(file, kind=\"val\")"
   ]
  },
  {
   "cell_type": "markdown",
   "metadata": {
    "id": "l11V10LQb019"
   },
   "source": [
    "## batch size = 128"
   ]
  },
  {
   "cell_type": "markdown",
   "metadata": {
    "id": "0tBvaYjocQXJ"
   },
   "source": [
    "EPOCHS = 64  \n",
    "BATCH_SIZE = 128  \n",
    "LEARNING_RATE = 0.0001  \n",
    "NAME = \"cnn_bs_128\"  "
   ]
  },
  {
   "cell_type": "code",
   "execution_count": null,
   "metadata": {
    "id": "-oS5MvaPb2hq"
   },
   "outputs": [],
   "source": [
    "filepath = \"/content/drive/MyDrive/UNIMI/MachineLearning/UrbanSound/models/history_dict_cnn_bs_128.json\""
   ]
  },
  {
   "cell_type": "code",
   "execution_count": null,
   "metadata": {
    "id": "VCp12IRdcT_z"
   },
   "outputs": [],
   "source": [
    "with open(filepath, \"r\") as f:\n",
    "    file = json.load(f)"
   ]
  },
  {
   "cell_type": "code",
   "execution_count": null,
   "metadata": {
    "colab": {
     "base_uri": "https://localhost:8080/",
     "height": 643
    },
    "id": "W83jNCI4cVXX",
    "outputId": "e119ff13-d4b8-4475-966a-eccaf1ad4f32"
   },
   "outputs": [],
   "source": [
    "AddUtil.acc_loss_plot(file)"
   ]
  },
  {
   "cell_type": "code",
   "execution_count": null,
   "metadata": {
    "colab": {
     "base_uri": "https://localhost:8080/",
     "height": 638
    },
    "id": "bU0oCfK3cW_0",
    "outputId": "f52fb9aa-8d9d-4330-f846-107326f976f9"
   },
   "outputs": [],
   "source": [
    "AddUtil.acc_loss_plot(file, kind=\"val\")"
   ]
  },
  {
   "cell_type": "markdown",
   "metadata": {
    "id": "UbYTr9slqclG"
   },
   "source": [
    "## batch size = 16"
   ]
  },
  {
   "cell_type": "markdown",
   "metadata": {
    "id": "BwrfSB3kqgzi"
   },
   "source": [
    "EPOCHS = 64  \n",
    "BATCH_SIZE = 16  \n",
    "LEARNING_RATE = 0.0001  \n",
    "NAME = \"cnn_bs_16\"  "
   ]
  },
  {
   "cell_type": "code",
   "execution_count": null,
   "metadata": {
    "id": "2NhwMFe1qkkW"
   },
   "outputs": [],
   "source": [
    "filepath = \"/content/drive/MyDrive/UNIMI/MachineLearning/UrbanSound/models/history_dict_cnn_bs_16.json\""
   ]
  },
  {
   "cell_type": "code",
   "execution_count": null,
   "metadata": {
    "id": "T91258siqoc4"
   },
   "outputs": [],
   "source": [
    "with open(filepath, \"r\") as f:\n",
    "    file = json.load(f)"
   ]
  },
  {
   "cell_type": "code",
   "execution_count": null,
   "metadata": {
    "colab": {
     "base_uri": "https://localhost:8080/"
    },
    "id": "SfSihXY2qpCL",
    "outputId": "ff1a8761-82f8-487d-d87b-c4cde36d7d7b"
   },
   "outputs": [],
   "source": [
    "AddUtil.acc_loss_plot(file)"
   ]
  },
  {
   "cell_type": "code",
   "execution_count": null,
   "metadata": {
    "colab": {
     "base_uri": "https://localhost:8080/"
    },
    "id": "UWzC5y0cqqpL",
    "outputId": "cfc13437-7e53-4400-8ee9-753da4c804a2"
   },
   "outputs": [],
   "source": [
    "AddUtil.acc_loss_plot(file, kind=\"val\")"
   ]
  },
  {
   "cell_type": "markdown",
   "metadata": {
    "id": "_HYYdzfjVQre"
   },
   "source": [
    "## batch size = 8"
   ]
  },
  {
   "cell_type": "markdown",
   "metadata": {
    "id": "_ySA-eleVUkn"
   },
   "source": [
    "EPOCHS = 64  \n",
    "BATCH_SIZE = 8  \n",
    "LEARNING_RATE = 0.0001  \n",
    "NAME = \"cnn_bs_8\"  "
   ]
  },
  {
   "cell_type": "code",
   "execution_count": null,
   "metadata": {
    "id": "FwdoOMAyVZXl"
   },
   "outputs": [],
   "source": [
    "filepath = \"/content/drive/MyDrive/UNIMI/MachineLearning/UrbanSound/models/history_dict_cnn_bs_8.json\""
   ]
  },
  {
   "cell_type": "code",
   "execution_count": null,
   "metadata": {
    "id": "8siWtsMJVpkB"
   },
   "outputs": [],
   "source": [
    "with open(filepath, \"r\") as f:\n",
    "    file = json.load(f)"
   ]
  },
  {
   "cell_type": "code",
   "execution_count": null,
   "metadata": {
    "colab": {
     "base_uri": "https://localhost:8080/",
     "height": 638
    },
    "id": "0pHifDeNVrds",
    "outputId": "3806f449-1eeb-4ae1-bbae-4c04d3eb146e"
   },
   "outputs": [],
   "source": [
    "AddUtil.acc_loss_plot(file)"
   ]
  },
  {
   "cell_type": "code",
   "execution_count": null,
   "metadata": {
    "colab": {
     "base_uri": "https://localhost:8080/",
     "height": 638
    },
    "id": "hc5Kvi8LVs3R",
    "outputId": "68d8959b-785e-447b-8d0f-4d467b9713e8"
   },
   "outputs": [],
   "source": [
    "AddUtil.acc_loss_plot(file, kind=\"val\")"
   ]
  },
  {
   "cell_type": "markdown",
   "metadata": {
    "id": "-LoFxnOSccF-"
   },
   "source": [
    "## Comparison"
   ]
  },
  {
   "cell_type": "code",
   "execution_count": null,
   "metadata": {
    "colab": {
     "base_uri": "https://localhost:8080/"
    },
    "id": "QvgXilsdcY4T",
    "outputId": "6163ab14-36dc-4468-e75e-b9144bf2141c"
   },
   "outputs": [],
   "source": [
    "folderpath = \"/content/drive/MyDrive/UNIMI/MachineLearning/UrbanSound/models\"\n",
    "filepath = [os.path.join(folderpath, name) for name in os.listdir(folderpath) if (\"cnn_bs\" in name) or (\"cnn_lr_0001\" in name)]\n",
    "filepath"
   ]
  },
  {
   "cell_type": "code",
   "execution_count": null,
   "metadata": {
    "id": "NTOsV_9aciAv"
   },
   "outputs": [],
   "source": [
    "histories = []\n",
    "for path in filepath:\n",
    "  with open(path, \"r\") as f:\n",
    "    file = json.load(f)\n",
    "  histories.append(file)"
   ]
  },
  {
   "cell_type": "code",
   "execution_count": null,
   "metadata": {
    "colab": {
     "base_uri": "https://localhost:8080/"
    },
    "id": "Ud4GGwnRckUu",
    "outputId": "e6403cde-2533-4ec5-b8a0-a91a60c266f0"
   },
   "outputs": [],
   "source": [
    "AddUtil.loss_vs_param_plot(histories, par=[32, 128, 16, 64, 8], par_name=\"batch size\")"
   ]
  },
  {
   "cell_type": "code",
   "execution_count": null,
   "metadata": {
    "id": "TkOOpDtocw7l"
   },
   "outputs": [],
   "source": []
  },
  {
   "cell_type": "markdown",
   "metadata": {
    "id": "6BMQAxyYX0HW"
   },
   "source": [
    "# (IV) Sampling Rate"
   ]
  },
  {
   "cell_type": "markdown",
   "metadata": {
    "id": "5o9mcTzKX-aL"
   },
   "source": [
    "## (4.1) 44100 Hz"
   ]
  },
  {
   "cell_type": "code",
   "execution_count": null,
   "metadata": {
    "id": "MEGCPP08YWmp"
   },
   "outputs": [],
   "source": [
    "filepath = \"/content/drive/MyDrive/UNIMI/MachineLearning/UrbanSound/models/history_dict_cnn1_44100.json\""
   ]
  },
  {
   "cell_type": "code",
   "execution_count": null,
   "metadata": {
    "id": "TVebRfsAYXFp"
   },
   "outputs": [],
   "source": [
    "with open(filepath, \"r\") as f:\n",
    "    file = json.load(f)"
   ]
  },
  {
   "cell_type": "code",
   "execution_count": null,
   "metadata": {
    "colab": {
     "base_uri": "https://localhost:8080/"
    },
    "id": "ZvIy8gSnYZfC",
    "outputId": "1eb997de-dc09-46a7-edb1-f00165aae8b0"
   },
   "outputs": [],
   "source": [
    "AddUtil.acc_loss_plot(file)"
   ]
  },
  {
   "cell_type": "code",
   "execution_count": null,
   "metadata": {
    "colab": {
     "base_uri": "https://localhost:8080/"
    },
    "id": "0D2vLlfMYa6e",
    "outputId": "cf8b9bf2-d18a-4797-88cf-f189bd911384"
   },
   "outputs": [],
   "source": [
    "AddUtil.acc_loss_plot(file, kind=\"val\")"
   ]
  },
  {
   "cell_type": "markdown",
   "metadata": {
    "id": "D4auhVAVYDgx"
   },
   "source": [
    "## (4.2) 22050 Hz"
   ]
  },
  {
   "cell_type": "code",
   "execution_count": null,
   "metadata": {
    "id": "0ZsqSQDOZICy"
   },
   "outputs": [],
   "source": [
    "filepath = \"/content/drive/MyDrive/UNIMI/MachineLearning/UrbanSound/models/history_dict_cnn1_22050.json\""
   ]
  },
  {
   "cell_type": "code",
   "execution_count": null,
   "metadata": {
    "id": "JKgQmToMZI8P"
   },
   "outputs": [],
   "source": [
    "with open(filepath, \"r\") as f:\n",
    "    file = json.load(f)"
   ]
  },
  {
   "cell_type": "code",
   "execution_count": null,
   "metadata": {
    "colab": {
     "base_uri": "https://localhost:8080/"
    },
    "id": "Ys-essMTZKph",
    "outputId": "9a9b22ae-fa2f-4c83-a01e-4956e3369437"
   },
   "outputs": [],
   "source": [
    "AddUtil.acc_loss_plot(file)"
   ]
  },
  {
   "cell_type": "code",
   "execution_count": null,
   "metadata": {
    "colab": {
     "base_uri": "https://localhost:8080/"
    },
    "id": "zQxsyU48ZMoP",
    "outputId": "c231ab54-23cf-43bd-feb6-d72b457cb8b9"
   },
   "outputs": [],
   "source": [
    "AddUtil.acc_loss_plot(file, kind=\"val\")"
   ]
  },
  {
   "cell_type": "markdown",
   "metadata": {
    "id": "vJnJG4qbYFu5"
   },
   "source": [
    "## (4.3) 11025 Hz"
   ]
  },
  {
   "cell_type": "code",
   "execution_count": null,
   "metadata": {
    "id": "bhYLmDZ7ZOSS"
   },
   "outputs": [],
   "source": [
    "filepath = \"/content/drive/MyDrive/UNIMI/MachineLearning/UrbanSound/models/history_dict_cnn1_11025.json\""
   ]
  },
  {
   "cell_type": "code",
   "execution_count": null,
   "metadata": {
    "id": "wSAaS8ClZPLL"
   },
   "outputs": [],
   "source": [
    "with open(filepath, \"r\") as f:\n",
    "    file = json.load(f)"
   ]
  },
  {
   "cell_type": "code",
   "execution_count": null,
   "metadata": {
    "colab": {
     "base_uri": "https://localhost:8080/"
    },
    "id": "jizqCJOrZR1G",
    "outputId": "128f4900-c7e0-4b5c-e4ef-796702b6ebb1"
   },
   "outputs": [],
   "source": [
    "AddUtil.acc_loss_plot(file)"
   ]
  },
  {
   "cell_type": "code",
   "execution_count": null,
   "metadata": {
    "colab": {
     "base_uri": "https://localhost:8080/"
    },
    "id": "CVeMyT3WZS0Q",
    "outputId": "96901876-4bb1-4c35-c9aa-9e654d07f6f8"
   },
   "outputs": [],
   "source": [
    "AddUtil.acc_loss_plot(file, kind=\"val\")"
   ]
  },
  {
   "cell_type": "markdown",
   "metadata": {
    "id": "4yR6HbZ4YOkV"
   },
   "source": [
    "## (4.3) 5512.5 Hz"
   ]
  },
  {
   "cell_type": "code",
   "execution_count": null,
   "metadata": {
    "id": "CN6bJ7CdX2rZ"
   },
   "outputs": [],
   "source": [
    "filepath = \"/content/drive/MyDrive/UNIMI/MachineLearning/UrbanSound/models/history_dict_cnn1_5512_5.json\""
   ]
  },
  {
   "cell_type": "code",
   "execution_count": null,
   "metadata": {
    "id": "N9i0azPgZZhN"
   },
   "outputs": [],
   "source": [
    "with open(filepath, \"r\") as f:\n",
    "    file = json.load(f)"
   ]
  },
  {
   "cell_type": "code",
   "execution_count": null,
   "metadata": {
    "colab": {
     "base_uri": "https://localhost:8080/"
    },
    "id": "QOa8eBChZatc",
    "outputId": "9033709b-9afc-40b1-9bfc-e60a9e1e00ba"
   },
   "outputs": [],
   "source": [
    "AddUtil.acc_loss_plot(file)"
   ]
  },
  {
   "cell_type": "code",
   "execution_count": null,
   "metadata": {
    "colab": {
     "base_uri": "https://localhost:8080/"
    },
    "id": "2e0kaqbsZbbR",
    "outputId": "188c1f3b-483f-4aa1-cb03-a83fed8cf67c"
   },
   "outputs": [],
   "source": [
    "AddUtil.acc_loss_plot(file, kind=\"val\")"
   ]
  },
  {
   "cell_type": "markdown",
   "metadata": {
    "id": "iCu-z-0paMIA"
   },
   "source": [
    "## Comparison (val. loss)"
   ]
  },
  {
   "cell_type": "code",
   "execution_count": null,
   "metadata": {
    "colab": {
     "base_uri": "https://localhost:8080/"
    },
    "id": "gyhRA6z-ZxwM",
    "outputId": "74b53dca-944d-4529-d78e-3a20592fcb7b"
   },
   "outputs": [],
   "source": [
    "folderpath = \"/content/drive/MyDrive/UNIMI/MachineLearning/UrbanSound/models\"\n",
    "filepath = [os.path.join(folderpath, name) for name in os.listdir(folderpath) if (\"cnn1\" in name)]\n",
    "filepath"
   ]
  },
  {
   "cell_type": "code",
   "execution_count": null,
   "metadata": {
    "id": "UVR2aOTgaiy0"
   },
   "outputs": [],
   "source": [
    "histories = []\n",
    "for path in filepath:\n",
    "  with open(path, \"r\") as f:\n",
    "    file = json.load(f)\n",
    "  histories.append(file)"
   ]
  },
  {
   "cell_type": "code",
   "execution_count": null,
   "metadata": {
    "colab": {
     "base_uri": "https://localhost:8080/",
     "height": 624
    },
    "id": "eHlC4L5MakfE",
    "outputId": "8dc444f6-e075-4d0e-d6e4-5b1a3d9b91c1"
   },
   "outputs": [],
   "source": [
    "AddUtil.loss_vs_param_plot(histories, par=[22050, 11025, 5512.5, 44100], par_name=\"sampling rate, Hz\")"
   ]
  },
  {
   "cell_type": "markdown",
   "metadata": {
    "id": "Va3dhzC7aQwO"
   },
   "source": [
    "## Comparison (test accuracy)"
   ]
  },
  {
   "cell_type": "code",
   "execution_count": null,
   "metadata": {
    "id": "pu_2oXyFaSUN"
   },
   "outputs": [],
   "source": []
  }
 ],
 "metadata": {
  "colab": {
   "collapsed_sections": [
    "720kDLLkRmSF",
    "mReWwHNf8MWM",
    "C9Kji4Jd8SAS",
    "waQqnu2H9Dhi",
    "Ag4Bhta69YUs",
    "79gToc3sbwMS",
    "l11V10LQb019",
    "-LoFxnOSccF-"
   ],
   "name": "cnn-results.ipynb",
   "provenance": []
  },
  "kernelspec": {
   "display_name": "Python 3",
   "language": "python",
   "name": "python3"
  },
  "language_info": {
   "codemirror_mode": {
    "name": "ipython",
    "version": 3
   },
   "file_extension": ".py",
   "mimetype": "text/x-python",
   "name": "python",
   "nbconvert_exporter": "python",
   "pygments_lexer": "ipython3",
   "version": "3.8.5"
  }
 },
 "nbformat": 4,
 "nbformat_minor": 1
}
