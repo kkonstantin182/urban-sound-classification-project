{
 "cells": [
  {
   "cell_type": "code",
   "execution_count": null,
   "metadata": {
    "colab": {
     "base_uri": "https://localhost:8080/"
    },
    "id": "guQBaVf-Jw3R",
    "outputId": "323d0f6d-b3d3-4b02-fe8b-705b91b09002"
   },
   "outputs": [],
   "source": [
    "# connect Colab with Google Drive\n",
    "from google.colab import drive\n",
    "drive.mount('/content/drive')"
   ]
  },
  {
   "cell_type": "code",
   "execution_count": null,
   "metadata": {
    "id": "BpIhMYe_J6sq"
   },
   "outputs": [],
   "source": [
    "# to import custom modules\n",
    "import sys\n",
    "sys.path.append(\"/content/drive/MyDrive/UNIMI/MachineLearning/UrbanSound/scripts\")"
   ]
  },
  {
   "cell_type": "code",
   "execution_count": null,
   "metadata": {
    "id": "F8Wo1iBpJ9NN"
   },
   "outputs": [],
   "source": [
    "import pandas as pd\n",
    "import numpy as np"
   ]
  },
  {
   "cell_type": "code",
   "execution_count": null,
   "metadata": {
    "id": "gvq7IHwZKBDh"
   },
   "outputs": [],
   "source": [
    "import DataUtil"
   ]
  },
  {
   "cell_type": "code",
   "execution_count": null,
   "metadata": {
    "id": "YjI6YQ8RKBoz"
   },
   "outputs": [],
   "source": [
    "# loading meta-data file\n",
    "metadata = \"/content/drive/MyDrive/datasets/urban_sound/UrbanSound8K.csv\""
   ]
  },
  {
   "cell_type": "code",
   "execution_count": null,
   "metadata": {
    "colab": {
     "base_uri": "https://localhost:8080/",
     "height": 202
    },
    "id": "dn_cZNa8KDi3",
    "outputId": "c6e14fb2-2b57-4166-f8b3-8d137f397448"
   },
   "outputs": [],
   "source": [
    "md = pd.read_csv(metadata)\n",
    "md.head()"
   ]
  },
  {
   "cell_type": "markdown",
   "metadata": {
    "id": "bXCJC3QzNW7j"
   },
   "source": [
    "# 1. Extract features for CNN model (i.e spectrograms shape: (128, 128)) from the article \"Urban Sound Classification using Long Short-Term Memory Neural Network\". (SAMPLE_RATE = 44.1kHz)\n"
   ]
  },
  {
   "cell_type": "code",
   "execution_count": null,
   "metadata": {
    "colab": {
     "base_uri": "https://localhost:8080/",
     "height": 431
    },
    "id": "HSptEmjjKFMx",
    "outputId": "ec130613-f304-480e-c1b3-c99f853bb89b"
   },
   "outputs": [],
   "source": [
    "# extract features from wavefroms and save to file\n",
    "DataUtil.save_spectrograms(md, standartization=True, fix_length=True)"
   ]
  },
  {
   "cell_type": "markdown",
   "metadata": {
    "id": "plMHXUx4OND_"
   },
   "source": [
    "# 2. Extract features for CNN model (i.e spectrograms shape: (128, 128)) from the article \"Urban Sound Classification using Long Short-Term Memory Neural Network\". (SAMPLE_RATE = 32kHz)\n"
   ]
  },
  {
   "cell_type": "code",
   "execution_count": null,
   "metadata": {
    "id": "TtdOEgGxOzwY"
   },
   "outputs": [],
   "source": [
    "DataUtil.SAMPLE_RATE = 32000"
   ]
  },
  {
   "cell_type": "code",
   "execution_count": null,
   "metadata": {
    "colab": {
     "base_uri": "https://localhost:8080/"
    },
    "id": "a8yOKcE9O45d",
    "outputId": "61f0b6d6-6813-493f-b0aa-222d73fc1747"
   },
   "outputs": [],
   "source": [
    "print(DataUtil.SAMPLE_RATE)"
   ]
  },
  {
   "cell_type": "code",
   "execution_count": null,
   "metadata": {
    "colab": {
     "base_uri": "https://localhost:8080/",
     "height": 497
    },
    "id": "yiqwHIc8OP3I",
    "outputId": "a44ce7e4-311b-4f08-d530-b9cb7987d1d3"
   },
   "outputs": [],
   "source": [
    "# extract features from wavefroms and save to file\n",
    "DataUtil.save_spectrograms(md, standartization=True, fix_length=True)"
   ]
  },
  {
   "cell_type": "markdown",
   "metadata": {
    "id": "pmt5THdgPixq"
   },
   "source": [
    "# 3. Extract features for CNN model (i.e spectrograms shape: (128, 128)) from the article \"Urban Sound Classification using Long Short-Term Memory Neural Network\". (SAMPLE_RATE = 22.05kHz)\n"
   ]
  },
  {
   "cell_type": "code",
   "execution_count": null,
   "metadata": {
    "id": "mC1Yn_ZdPlA6"
   },
   "outputs": [],
   "source": [
    "DataUtil.SAMPLE_RATE = 22050"
   ]
  },
  {
   "cell_type": "code",
   "execution_count": null,
   "metadata": {
    "colab": {
     "base_uri": "https://localhost:8080/",
     "height": 531
    },
    "id": "MUFYIf8JPnD5",
    "outputId": "83e8200c-2c67-4579-ca24-c2f5347ae709"
   },
   "outputs": [],
   "source": [
    "# extract features from wavefroms and save to file\n",
    "DataUtil.save_spectrograms(md, standartization=True, fix_length=True)"
   ]
  },
  {
   "cell_type": "markdown",
   "metadata": {
    "id": "1Jtkikagdg1k"
   },
   "source": [
    "# 4. Extract features for CNN model (i.e spectrograms shape: (128, 128)) from the article \"Urban Sound Classification using Long Short-Term Memory Neural Network\". (SAMPLE_RATE = 11.025kHz)\n"
   ]
  },
  {
   "cell_type": "code",
   "execution_count": null,
   "metadata": {
    "id": "ZJnxBt9EdrZY"
   },
   "outputs": [],
   "source": [
    "DataUtil.SAMPLE_RATE = 11025"
   ]
  },
  {
   "cell_type": "code",
   "execution_count": null,
   "metadata": {
    "colab": {
     "base_uri": "https://localhost:8080/",
     "height": 1000
    },
    "id": "fkyHuzZQduYU",
    "outputId": "3b880590-ca97-4357-edbb-f156e23a8fa7"
   },
   "outputs": [],
   "source": [
    "# extract features from wavefroms and save to file\n",
    "DataUtil.save_spectrograms(md, standartization=True, fix_length=True)"
   ]
  },
  {
   "cell_type": "markdown",
   "metadata": {
    "id": "VgOh6JQSgXMq"
   },
   "source": [
    "# 5. Extract features for CNN model (i.e spectrograms shape: (128, 128)) from the article \"Urban Sound Classification using Long Short-Term Memory Neural Network\". (SAMPLE_RATE = 5512.5 Hz)\n"
   ]
  },
  {
   "cell_type": "code",
   "execution_count": null,
   "metadata": {
    "id": "FclXrZhGilrE"
   },
   "outputs": [],
   "source": [
    "DataUtil.SAMPLE_RATE = 5512.5"
   ]
  },
  {
   "cell_type": "code",
   "execution_count": null,
   "metadata": {
    "colab": {
     "base_uri": "https://localhost:8080/",
     "height": 1000
    },
    "id": "Vd7geChrgiBY",
    "outputId": "8ec1f3ab-1faa-4af6-c397-713e8b3c850e"
   },
   "outputs": [],
   "source": [
    "# extract features from wavefroms and save to file\n",
    "DataUtil.save_spectrograms(md, standartization=True, fix_length=True)"
   ]
  },
  {
   "cell_type": "code",
   "execution_count": null,
   "metadata": {
    "id": "bjEtbzDbg0yc"
   },
   "outputs": [],
   "source": []
  }
 ],
 "metadata": {
  "accelerator": "TPU",
  "colab": {
   "collapsed_sections": [
    "bXCJC3QzNW7j",
    "plMHXUx4OND_",
    "pmt5THdgPixq"
   ],
   "name": "feature_extraction.ipynb",
   "provenance": []
  },
  "kernelspec": {
   "display_name": "Python 3",
   "language": "python",
   "name": "python3"
  },
  "language_info": {
   "codemirror_mode": {
    "name": "ipython",
    "version": 3
   },
   "file_extension": ".py",
   "mimetype": "text/x-python",
   "name": "python",
   "nbconvert_exporter": "python",
   "pygments_lexer": "ipython3",
   "version": "3.8.5"
  }
 },
 "nbformat": 4,
 "nbformat_minor": 1
}
